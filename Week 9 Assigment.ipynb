{
 "cells": [
  {
   "cell_type": "markdown",
   "metadata": {},
   "source": [
    "## Lab Assignment: Advanced Data Visualization with Seaborn, Plotly, and MatPlotLib\n",
    "Student:     Jeff McKendry\n",
    "\n",
    "### Objective: To apply knowledge of more advanced data visualizations using some of the additional standard Python libraries.\n",
    "\n",
    "### Instructions:\n",
    "In this lab assignment, you will be given the following eight problems to solve. Each problem requires you to implement a solution using one of the named visualization libraries in Python. Read the problem statement carefully and make sure you understand the requirements before starting to code.\n",
    "1. Load the dataset titanic.csv using Pandas\n",
    "2. Create a bar plot using Seaborn to visualize the count of passengers in each passenger class (Pclass) in the Titanic dataset. Label the x-axis, y-axis, and add a title to the plot.\n",
    "3. Use Plotly to create an interactive scatter plot to visualize the relationship between the age and fare paid by passengers in the Titanic dataset. Include tooltips that display additional information about each data point when hovering over them.\n",
    "4. Create a histogram using Matplotlib to visualize the distribution of passenger ages in the Titanic dataset. Customize the bin size, color, and transparency of the bars.\n",
    "5. Use Seaborn to create a box plot to compare the fare distribution across different passenger classes (Pclass) in the Titanic dataset. Add labels to the x-axis and y-axis, and include a legend to indicate the passenger classes.\n",
    "6. Create a line plot using Plotly to display the survival rate of passengers based on their age in the Titanic dataset. Group the data by age range and calculate the survival rate for each group. Add a title and axis labels to the plot.\n",
    "7. Use Matplotlib to create a stacked bar plot to visualize the survival count of passengers in different passenger classes (Pclass) and embarkation ports (Embarked) in the Titanic dataset. Customize the colors, add a legend, and include a title for the plot.\n",
    "8. Create a heat map using Seaborn to visualize the correlation matrix of numerical variables in the Titanic dataset, such as age, fare, and number of siblings/spouses aboard (SibSp). Customize the color palette and add annotations to the cells to display the correlation values.\n",
    "\n",
    "### Deliverable:\n",
    "Modify this notebook to include the python code as well as any documentation related to your submission.  Submit the notebook as your response in Blackboard.\n",
    "\n",
    "### Grading Criteria:\n",
    "\n",
    "Your lab assignment will be graded based on the following criteria:\n",
    "\n",
    "- Correctness of the implementation\n",
    "- Proper use of basic control structures and functions\n",
    "- Code efficiency\n",
    "- Clarity and readability of the code\n",
    "- Compliance with the instructions and deliverables.\n",
    "\n",
    "### Student Submission"
   ]
  },
  {
   "cell_type": "code",
   "execution_count": 1,
   "metadata": {},
   "outputs": [
    {
     "data": {
      "text/html": [
       "<div>\n",
       "<style scoped>\n",
       "    .dataframe tbody tr th:only-of-type {\n",
       "        vertical-align: middle;\n",
       "    }\n",
       "\n",
       "    .dataframe tbody tr th {\n",
       "        vertical-align: top;\n",
       "    }\n",
       "\n",
       "    .dataframe thead th {\n",
       "        text-align: right;\n",
       "    }\n",
       "</style>\n",
       "<table border=\"1\" class=\"dataframe\">\n",
       "  <thead>\n",
       "    <tr style=\"text-align: right;\">\n",
       "      <th></th>\n",
       "      <th>survived</th>\n",
       "      <th>pclass</th>\n",
       "      <th>sex</th>\n",
       "      <th>age</th>\n",
       "      <th>sibsp</th>\n",
       "      <th>parch</th>\n",
       "      <th>fare</th>\n",
       "      <th>embarked</th>\n",
       "      <th>class</th>\n",
       "      <th>who</th>\n",
       "      <th>adult_male</th>\n",
       "      <th>deck</th>\n",
       "      <th>embark_town</th>\n",
       "      <th>alive</th>\n",
       "      <th>alone</th>\n",
       "    </tr>\n",
       "  </thead>\n",
       "  <tbody>\n",
       "    <tr>\n",
       "      <th>0</th>\n",
       "      <td>0</td>\n",
       "      <td>3</td>\n",
       "      <td>male</td>\n",
       "      <td>22.0</td>\n",
       "      <td>1</td>\n",
       "      <td>0</td>\n",
       "      <td>7.2500</td>\n",
       "      <td>S</td>\n",
       "      <td>Third</td>\n",
       "      <td>man</td>\n",
       "      <td>True</td>\n",
       "      <td>NaN</td>\n",
       "      <td>Southampton</td>\n",
       "      <td>no</td>\n",
       "      <td>False</td>\n",
       "    </tr>\n",
       "    <tr>\n",
       "      <th>1</th>\n",
       "      <td>1</td>\n",
       "      <td>1</td>\n",
       "      <td>female</td>\n",
       "      <td>38.0</td>\n",
       "      <td>1</td>\n",
       "      <td>0</td>\n",
       "      <td>71.2833</td>\n",
       "      <td>C</td>\n",
       "      <td>First</td>\n",
       "      <td>woman</td>\n",
       "      <td>False</td>\n",
       "      <td>C</td>\n",
       "      <td>Cherbourg</td>\n",
       "      <td>yes</td>\n",
       "      <td>False</td>\n",
       "    </tr>\n",
       "    <tr>\n",
       "      <th>2</th>\n",
       "      <td>1</td>\n",
       "      <td>3</td>\n",
       "      <td>female</td>\n",
       "      <td>26.0</td>\n",
       "      <td>0</td>\n",
       "      <td>0</td>\n",
       "      <td>7.9250</td>\n",
       "      <td>S</td>\n",
       "      <td>Third</td>\n",
       "      <td>woman</td>\n",
       "      <td>False</td>\n",
       "      <td>NaN</td>\n",
       "      <td>Southampton</td>\n",
       "      <td>yes</td>\n",
       "      <td>True</td>\n",
       "    </tr>\n",
       "    <tr>\n",
       "      <th>3</th>\n",
       "      <td>1</td>\n",
       "      <td>1</td>\n",
       "      <td>female</td>\n",
       "      <td>35.0</td>\n",
       "      <td>1</td>\n",
       "      <td>0</td>\n",
       "      <td>53.1000</td>\n",
       "      <td>S</td>\n",
       "      <td>First</td>\n",
       "      <td>woman</td>\n",
       "      <td>False</td>\n",
       "      <td>C</td>\n",
       "      <td>Southampton</td>\n",
       "      <td>yes</td>\n",
       "      <td>False</td>\n",
       "    </tr>\n",
       "    <tr>\n",
       "      <th>4</th>\n",
       "      <td>0</td>\n",
       "      <td>3</td>\n",
       "      <td>male</td>\n",
       "      <td>35.0</td>\n",
       "      <td>0</td>\n",
       "      <td>0</td>\n",
       "      <td>8.0500</td>\n",
       "      <td>S</td>\n",
       "      <td>Third</td>\n",
       "      <td>man</td>\n",
       "      <td>True</td>\n",
       "      <td>NaN</td>\n",
       "      <td>Southampton</td>\n",
       "      <td>no</td>\n",
       "      <td>True</td>\n",
       "    </tr>\n",
       "  </tbody>\n",
       "</table>\n",
       "</div>"
      ],
      "text/plain": [
       "   survived  pclass     sex   age  sibsp  parch     fare embarked  class  \\\n",
       "0         0       3    male  22.0      1      0   7.2500        S  Third   \n",
       "1         1       1  female  38.0      1      0  71.2833        C  First   \n",
       "2         1       3  female  26.0      0      0   7.9250        S  Third   \n",
       "3         1       1  female  35.0      1      0  53.1000        S  First   \n",
       "4         0       3    male  35.0      0      0   8.0500        S  Third   \n",
       "\n",
       "     who  adult_male deck  embark_town alive  alone  \n",
       "0    man        True  NaN  Southampton    no  False  \n",
       "1  woman       False    C    Cherbourg   yes  False  \n",
       "2  woman       False  NaN  Southampton   yes   True  \n",
       "3  woman       False    C  Southampton   yes  False  \n",
       "4    man        True  NaN  Southampton    no   True  "
      ]
     },
     "execution_count": 1,
     "metadata": {},
     "output_type": "execute_result"
    }
   ],
   "source": [
    "#Load the titanic dataset\n",
    "import seaborn as sns\n",
    "\n",
    "# Load the Titanic dataset from Seaborn\n",
    "titanic = sns.load_dataset('titanic')\n",
    "titanic.count()\n",
    "titanic.head()"
   ]
  },
  {
   "cell_type": "code",
   "execution_count": 5,
   "metadata": {},
   "outputs": [
    {
     "data": {
      "image/png": "[encoded data removed]",
      "text/plain": [
       "<Figure size 800x600 with 1 Axes>"
      ]
     },
     "metadata": {},
     "output_type": "display_data"
    }
   ],
   "source": [
    "#Create a bar plot using Seaborn to visualize the count of passengers in each passenger class\n",
    "import pandas as pd\n",
    "import matplotlib.pyplot as plt\n",
    "import plotly.express as px\n",
    "\n",
    "plt.figure(figsize=(8,6))\n",
    "sns.countplot(data=titanic, x='pclass')\n",
    "plt.xlabel('Passenger Class (pclass)')\n",
    "plt.ylabel('Number of Passengers')\n",
    "plt.title('Count of Passengers per Class on the Titanic')\n",
    "plt.show()"
   ]
  },
  {
   "cell_type": "code",
   "execution_count": 12,
   "metadata": {},
   "outputs": [
    {
     "data": {
      "application/vnd.plotly.v1+json": {
       "config": {
        "plotlyServerURL": "https://plot.ly"
       },
       "data": [
        {
         "customdata": [
          [
           "male",
           "S",
           0
          ],
          [
           "female",
           "C",
           1
          ],
          [
           "female",
           "S",
           1
          ],
          [
           "female",
           "S",
           1
          ],
          [
           "male",
           "S",
           0
          ],
          [
           "male",
           "S",
           0
          ],
          [
           "male",
           "S",
           0
          ],
          [
           "female",
           "S",
           1
          ],
          [
           "female",
           "C",
           1
          ],
          [
           "female",
           "S",
           1
          ],
          [
           "female",
           "S",
           1
          ],
          [
           "male",
           "S",
           0
          ],
          [
           "male",
           "S",
           0
          ],
          [
           "female",
           "S",
           0
          ],
          [
           "female",
           "S",
           1
          ],
          [
           "male",
           "Q",
           0
          ],
          [
           "female",
           "S",
           0
          ],
          [
           "male",
           "S",
           0
          ],
          [
           "male",
           "S",
           1
          ],
          [
           "female",
           "Q",
           1
          ],
          [
           "male",
           "S",
           1
          ],
          [
           "female",
           "S",
           0
          ],
          [
           "female",
           "S",
           1
          ],
          [
           "male",
           "S",
           0
          ],
          [
           "male",
           "C",
           0
          ],
          [
           "male",
           "S",
           0
          ],
          [
           "male",
           "C",
           0
          ],
          [
           "male",
           "S",
           0
          ],
          [
           "male",
           "S",
           0
          ],
          [
           "female",
           "S",
           0
          ],
          [
           "female",
           "C",
           1
          ],
          [
           "female",
           "S",
           0
          ],
          [
           "female",
           "S",
           0
          ],
          [
           "female",
           "C",
           1
          ],
          [
           "female",
           "Q",
           1
          ],
          [
           "female",
           "S",
           0
          ],
          [
           "male",
           "S",
           0
          ],
          [
           "male",
           "S",
           0
          ],
          [
           "female",
           "C",
           1
          ],
          [
           "female",
           "S",
           1
          ],
          [
           "male",
           "C",
           0
          ],
          [
           "female",
           "S",
           1
          ],
          [
           "male",
           "C",
           0
          ],
          [
           "female",
           "S",
           1
          ],
          [
           "male",
           "S",
           0
          ],
          [
           "male",
           "C",
           0
          ],
          [
           "female",
           null,
           1
          ],
          [
           "male",
           "S",
           0
          ],
          [
           "male",
           "S",
           0
          ],
          [
           "female",
           "S",
           1
          ],
          [
           "male",
           "S",
           0
          ],
          [
           "female",
           "S",
           1
          ],
          [
           "male",
           "S",
           0
          ],
          [
           "male",
           "S",
           0
          ],
          [
           "female",
           "S",
           0
          ],
          [
           "male",
           "S",
           0
          ],
          [
           "male",
           "C",
           0
          ],
          [
           "male",
           "S",
           1
          ],
          [
           "male",
           "S",
           0
          ],
          [
           "male",
           "S",
           1
          ],
          [
           "female",
           "S",
           1
          ],
          [
           "male",
           "S",
           0
          ],
          [
           "male",
           "S",
           1
          ],
          [
           "male",
           "S",
           0
          ],
          [
           "female",
           "S",
           1
          ],
          [
           "female",
           "S",
           1
          ],
          [
           "male",
           "S",
           0
          ],
          [
           "female",
           "S",
           1
          ],
          [
           "male",
           "S",
           0
          ],
          [
           "male",
           "S",
           0
          ],
          [
           "male",
           "S",
           0
          ],
          [
           "male",
           "S",
           0
          ],
          [
           "male",
           "S",
           0
          ],
          [
           "male",
           "S",
           0
          ],
          [
           "male",
           "C",
           0
          ],
          [
           "male",
           "C",
           1
          ],
          [
           "female",
           "S",
           1
          ],
          [
           "male",
           "S",
           0
          ],
          [
           "female",
           "S",
           0
          ],
          [
           "male",
           "S",
           0
          ],
          [
           "male",
           "S",
           0
          ],
          [
           "male",
           "S",
           0
          ],
          [
           "male",
           "S",
           0
          ],
          [
           "female",
           "S",
           1
          ],
          [
           "male",
           "S",
           0
          ],
          [
           "male",
           "S",
           0
          ],
          [
           "female",
           "C",
           0
          ],
          [
           "male",
           "S",
           0
          ],
          [
           "female",
           "S",
           0
          ],
          [
           "female",
           "C",
           0
          ],
          [
           "male",
           "S",
           0
          ],
          [
           "male",
           "Q",
           0
          ],
          [
           "male",
           "S",
           0
          ],
          [
           "male",
           "C",
           0
          ],
          [
           "female",
           "S",
           0
          ],
          [
           "male",
           "S",
           0
          ],
          [
           "male",
           "C",
           0
          ],
          [
           "female",
           "S",
           1
          ],
          [
           "male",
           "S",
           0
          ],
          [
           "male",
           "C",
           1
          ],
          [
           "male",
           "S",
           1
          ],
          [
           "male",
           "S",
           0
          ],
          [
           "male",
           "C",
           0
          ],
          [
           "male",
           "S",
           0
          ],
          [
           "female",
           "S",
           0
          ],
          [
           "female",
           "S",
           1
          ],
          [
           "male",
           "S",
           0
          ],
          [
           "male",
           "C",
           0
          ],
          [
           "female",
           "S",
           1
          ],
          [
           "male",
           "S",
           0
          ],
          [
           "male",
           "S",
           0
          ],
          [
           "male",
           "C",
           0
          ],
          [
           "female",
           "S",
           1
          ],
          [
           "female",
           "S",
           1
          ],
          [
           "male",
           "Q",
           0
          ],
          [
           "male",
           "S",
           0
          ],
          [
           "male",
           "S",
           0
          ],
          [
           "male",
           "S",
           1
          ],
          [
           "female",
           "S",
           0
          ],
          [
           "male",
           "S",
           0
          ],
          [
           "male",
           "S",
           0
          ],
          [
           "male",
           "S",
           0
          ],
          [
           "female",
           "S",
           1
          ],
          [
           "male",
           "S",
           0
          ],
          [
           "male",
           "S",
           0
          ],
          [
           "male",
           "C",
           0
          ],
          [
           "female",
           "Q",
           1
          ],
          [
           "male",
           "S",
           0
          ],
          [
           "male",
           "S",
           0
          ],
          [
           "female",
           "S",
           1
          ],
          [
           "male",
           "S",
           0
          ],
          [
           "male",
           "S",
           0
          ],
          [
           "male",
           "S",
           0
          ],
          [
           "male",
           "S",
           1
          ],
          [
           "female",
           "S",
           0
          ],
          [
           "male",
           "S",
           0
          ],
          [
           "male",
           "S",
           0
          ],
          [
           "male",
           "Q",
           0
          ],
          [
           "female",
           "S",
           1
          ],
          [
           "male",
           "S",
           0
          ],
          [
           "male",
           "C",
           0
          ],
          [
           "male",
           "S",
           0
          ],
          [
           "female",
           "C",
           0
          ],
          [
           "male",
           "S",
           0
          ],
          [
           "male",
           "S",
           0
          ],
          [
           "male",
           "S",
           0
          ],
          [
           "male",
           "S",
           1
          ],
          [
           "female",
           "S",
           1
          ],
          [
           "male",
           "S",
           1
          ],
          [
           "male",
           "Q",
           0
          ],
          [
           "male",
           "S",
           0
          ],
          [
           "female",
           "S",
           1
          ],
          [
           "male",
           "S",
           0
          ],
          [
           "female",
           "S",
           1
          ],
          [
           "male",
           "S",
           1
          ],
          [
           "female",
           "C",
           1
          ],
          [
           "female",
           "C",
           1
          ],
          [
           "male",
           "S",
           0
          ],
          [
           "female",
           "S",
           0
          ],
          [
           "male",
           "S",
           0
          ],
          [
           "male",
           "S",
           0
          ],
          [
           "male",
           "C",
           0
          ],
          [
           "male",
           "S",
           1
          ],
          [
           "female",
           "S",
           0
          ],
          [
           "male",
           "S",
           0
          ],
          [
           "male",
           "C",
           1
          ],
          [
           "female",
           "Q",
           1
          ],
          [
           "male",
           "C",
           1
          ],
          [
           "male",
           "S",
           0
          ],
          [
           "female",
           "S",
           1
          ],
          [
           "male",
           "S",
           0
          ],
          [
           "male",
           "S",
           0
          ],
          [
           "female",
           "C",
           1
          ],
          [
           "female",
           "S",
           1
          ],
          [
           "male",
           "S",
           0
          ],
          [
           "female",
           "C",
           1
          ],
          [
           "male",
           "S",
           0
          ],
          [
           "male",
           "S",
           1
          ],
          [
           "male",
           "S",
           0
          ],
          [
           "male",
           "S",
           0
          ],
          [
           "male",
           "S",
           1
          ],
          [
           "male",
           "S",
           0
          ],
          [
           "male",
           "S",
           1
          ],
          [
           "male",
           "S",
           0
          ],
          [
           "male",
           "S",
           0
          ],
          [
           "female",
           "S",
           1
          ],
          [
           "male",
           "S",
           0
          ],
          [
           "male",
           "S",
           0
          ],
          [
           "female",
           "S",
           1
          ],
          [
           "male",
           "S",
           0
          ],
          [
           "male",
           "S",
           0
          ],
          [
           "female",
           "S",
           1
          ],
          [
           "male",
           "S",
           0
          ],
          [
           "male",
           "S",
           0
          ],
          [
           "male",
           "S",
           0
          ],
          [
           "male",
           "S",
           0
          ],
          [
           "male",
           "C",
           0
          ],
          [
           "male",
           "Q",
           0
          ],
          [
           "female",
           "S",
           0
          ],
          [
           "female",
           "S",
           1
          ],
          [
           "male",
           "S",
           1
          ],
          [
           "male",
           "S",
           0
          ],
          [
           "female",
           "S",
           0
          ],
          [
           "male",
           "S",
           0
          ],
          [
           "male",
           "S",
           0
          ],
          [
           "female",
           "S",
           0
          ],
          [
           "female",
           "C",
           1
          ],
          [
           "female",
           "S",
           1
          ],
          [
           "female",
           "C",
           1
          ],
          [
           "female",
           "S",
           1
          ],
          [
           "male",
           "S",
           1
          ],
          [
           "male",
           "S",
           0
          ],
          [
           "male",
           "S",
           0
          ],
          [
           "male",
           "S",
           0
          ],
          [
           "male",
           "S",
           0
          ],
          [
           "male",
           "S",
           1
          ],
          [
           "female",
           "S",
           1
          ],
          [
           "female",
           "S",
           1
          ],
          [
           "male",
           "S",
           1
          ],
          [
           "female",
           "S",
           1
          ],
          [
           "male",
           "C",
           0
          ],
          [
           "female",
           "S",
           1
          ],
          [
           "female",
           "S",
           0
          ],
          [
           "male",
           "Q",
           0
          ],
          [
           "female",
           "S",
           1
          ],
          [
           "male",
           "Q",
           0
          ],
          [
           "male",
           "S",
           0
          ],
          [
           "male",
           "S",
           0
          ],
          [
           "male",
           "S",
           1
          ],
          [
           "male",
           "C",
           0
          ],
          [
           "male",
           "S",
           1
          ],
          [
           "male",
           "S",
           0
          ],
          [
           "male",
           "S",
           1
          ],
          [
           "female",
           "Q",
           1
          ],
          [
           "female",
           "S",
           1
          ],
          [
           "female",
           "C",
           1
          ],
          [
           "male",
           "C",
           0
          ],
          [
           "female",
           "S",
           0
          ],
          [
           "male",
           "S",
           0
          ],
          [
           "male",
           "C",
           0
          ],
          [
           "female",
           "S",
           0
          ],
          [
           "female",
           "C",
           1
          ],
          [
           "male",
           "S",
           0
          ],
          [
           "male",
           "S",
           1
          ],
          [
           "female",
           "C",
           1
          ],
          [
           "male",
           "C",
           0
          ],
          [
           "female",
           "C",
           1
          ],
          [
           "female",
           "C",
           1
          ],
          [
           "female",
           "C",
           1
          ],
          [
           "female",
           "S",
           0
          ],
          [
           "male",
           "S",
           0
          ],
          [
           "male",
           "S",
           0
          ],
          [
           "female",
           "S",
           1
          ],
          [
           "female",
           "S",
           1
          ],
          [
           "male",
           "S",
           0
          ],
          [
           "female",
           "S",
           1
          ],
          [
           "female",
           "C",
           1
          ],
          [
           "male",
           "S",
           0
          ],
          [
           "male",
           "S",
           0
          ],
          [
           "female",
           "Q",
           1
          ],
          [
           "female",
           "S",
           1
          ],
          [
           "female",
           "C",
           1
          ],
          [
           "male",
           "S",
           0
          ],
          [
           "female",
           "S",
           1
          ],
          [
           "female",
           "S",
           1
          ],
          [
           "female",
           "C",
           1
          ],
          [
           "male",
           "S",
           0
          ],
          [
           "male",
           "S",
           0
          ],
          [
           "male",
           "S",
           0
          ],
          [
           "male",
           "S",
           0
          ],
          [
           "female",
           "C",
           1
          ],
          [
           "male",
           "S",
           1
          ],
          [
           "male",
           "S",
           0
          ],
          [
           "male",
           "S",
           1
          ],
          [
           "female",
           "S",
           1
          ],
          [
           "male",
           "S",
           0
          ],
          [
           "male",
           "S",
           0
          ],
          [
           "male",
           "S",
           0
          ],
          [
           "female",
           "S",
           1
          ],
          [
           "female",
           "S",
           1
          ],
          [
           "male",
           "S",
           1
          ],
          [
           "male",
           "S",
           0
          ],
          [
           "male",
           "S",
           0
          ],
          [
           "male",
           "C",
           0
          ],
          [
           "male",
           "S",
           0
          ],
          [
           "male",
           "S",
           0
          ],
          [
           "female",
           "S",
           1
          ],
          [
           "female",
           "S",
           0
          ],
          [
           "male",
           "S",
           0
          ],
          [
           "male",
           "C",
           0
          ],
          [
           "female",
           "C",
           0
          ],
          [
           "male",
           "S",
           0
          ],
          [
           "male",
           "S",
           0
          ],
          [
           "female",
           "C",
           1
          ],
          [
           "female",
           "C",
           1
          ],
          [
           "male",
           "C",
           1
          ],
          [
           "male",
           "S",
           0
          ],
          [
           "male",
           "S",
           0
          ],
          [
           "male",
           "C",
           0
          ],
          [
           "female",
           "S",
           0
          ],
          [
           "female",
           "S",
           1
          ],
          [
           "male",
           "C",
           0
          ],
          [
           "male",
           "C",
           0
          ],
          [
           "male",
           "S",
           0
          ],
          [
           "female",
           "C",
           1
          ],
          [
           "female",
           "C",
           1
          ],
          [
           "male",
           "S",
           0
          ],
          [
           "female",
           "S",
           1
          ],
          [
           "male",
           "S",
           0
          ],
          [
           "male",
           "S",
           0
          ],
          [
           "female",
           "S",
           1
          ],
          [
           "female",
           "C",
           1
          ],
          [
           "male",
           "S",
           1
          ],
          [
           "male",
           "S",
           1
          ],
          [
           "male",
           "S",
           0
          ],
          [
           "female",
           "C",
           1
          ],
          [
           "female",
           "S",
           1
          ],
          [
           "male",
           "S",
           0
          ],
          [
           "female",
           "S",
           0
          ],
          [
           "male",
           "S",
           0
          ],
          [
           "male",
           "S",
           0
          ],
          [
           "female",
           "S",
           1
          ],
          [
           "male",
           "S",
           1
          ],
          [
           "male",
           "S",
           0
          ],
          [
           "female",
           "S",
           0
          ],
          [
           "male",
           "S",
           0
          ],
          [
           "female",
           "S",
           0
          ],
          [
           "male",
           "S",
           0
          ],
          [
           "male",
           "S",
           0
          ],
          [
           "male",
           "S",
           1
          ],
          [
           "male",
           "S",
           0
          ],
          [
           "female",
           "Q",
           1
          ],
          [
           "male",
           "S",
           1
          ],
          [
           "female",
           "S",
           1
          ],
          [
           "female",
           "S",
           1
          ],
          [
           "male",
           "S",
           0
          ],
          [
           "female",
           "S",
           0
          ],
          [
           "male",
           "Q",
           0
          ],
          [
           "male",
           "S",
           0
          ],
          [
           "female",
           "S",
           0
          ],
          [
           "male",
           "S",
           0
          ],
          [
           "female",
           "S",
           1
          ],
          [
           "female",
           "S",
           1
          ],
          [
           "male",
           "S",
           1
          ],
          [
           "male",
           "S",
           1
          ],
          [
           "female",
           "S",
           1
          ],
          [
           "male",
           "S",
           0
          ],
          [
           "male",
           "S",
           0
          ],
          [
           "female",
           "S",
           1
          ],
          [
           "female",
           "S",
           0
          ],
          [
           "female",
           "S",
           1
          ],
          [
           "male",
           "S",
           0
          ],
          [
           "male",
           "S",
           0
          ],
          [
           "female",
           "S",
           1
          ],
          [
           "male",
           "S",
           0
          ],
          [
           "male",
           "S",
           0
          ],
          [
           "female",
           "S",
           1
          ],
          [
           "male",
           "S",
           1
          ],
          [
           "female",
           "S",
           1
          ],
          [
           "male",
           "S",
           1
          ],
          [
           "female",
           "C",
           1
          ],
          [
           "male",
           "S",
           1
          ],
          [
           "male",
           "S",
           0
          ],
          [
           "male",
           "C",
           0
          ],
          [
           "male",
           "C",
           1
          ],
          [
           "male",
           "C",
           1
          ],
          [
           "male",
           "S",
           0
          ],
          [
           "female",
           "S",
           1
          ],
          [
           "male",
           "S",
           1
          ],
          [
           "male",
           "S",
           0
          ],
          [
           "male",
           "S",
           0
          ],
          [
           "male",
           "S",
           0
          ],
          [
           "male",
           "S",
           0
          ],
          [
           "male",
           "S",
           0
          ],
          [
           "female",
           "C",
           1
          ],
          [
           "male",
           "S",
           0
          ],
          [
           "female",
           "S",
           1
          ],
          [
           "female",
           "C",
           1
          ],
          [
           "female",
           "S",
           0
          ],
          [
           "male",
           "S",
           0
          ],
          [
           "male",
           "S",
           0
          ],
          [
           "male",
           "S",
           0
          ],
          [
           "female",
           "S",
           1
          ],
          [
           "male",
           "S",
           0
          ],
          [
           "male",
           "S",
           0
          ],
          [
           "female",
           "S",
           1
          ],
          [
           "male",
           "C",
           1
          ],
          [
           "female",
           "S",
           1
          ],
          [
           "male",
           "C",
           0
          ],
          [
           "male",
           "S",
           0
          ],
          [
           "male",
           "S",
           1
          ],
          [
           "male",
           "S",
           0
          ],
          [
           "male",
           "S",
           0
          ],
          [
           "male",
           "C",
           0
          ],
          [
           "male",
           "S",
           0
          ],
          [
           "female",
           "C",
           1
          ],
          [
           "female",
           "S",
           0
          ],
          [
           "male",
           "S",
           0
          ],
          [
           "male",
           "S",
           0
          ],
          [
           "female",
           "Q",
           0
          ],
          [
           "female",
           "S",
           0
          ],
          [
           "female",
           "S",
           1
          ],
          [
           "male",
           "C",
           0
          ],
          [
           "female",
           "S",
           1
          ],
          [
           "male",
           "S",
           0
          ],
          [
           "male",
           "S",
           1
          ],
          [
           "male",
           "Q",
           1
          ],
          [
           "male",
           "S",
           1
          ],
          [
           "female",
           "C",
           1
          ],
          [
           "male",
           "S",
           0
          ],
          [
           "male",
           "S",
           0
          ],
          [
           "female",
           "S",
           1
          ],
          [
           "female",
           "S",
           1
          ],
          [
           "male",
           "S",
           0
          ],
          [
           "female",
           "S",
           1
          ],
          [
           "male",
           "S",
           0
          ],
          [
           "female",
           "C",
           1
          ],
          [
           "male",
           "Q",
           0
          ],
          [
           "female",
           "S",
           1
          ],
          [
           "male",
           "S",
           0
          ],
          [
           "male",
           "S",
           0
          ],
          [
           "female",
           "S",
           1
          ],
          [
           "male",
           "C",
           0
          ],
          [
           "female",
           "S",
           0
          ],
          [
           "female",
           "S",
           1
          ],
          [
           "male",
           "S",
           0
          ],
          [
           "female",
           "C",
           1
          ],
          [
           "female",
           "C",
           1
          ],
          [
           "female",
           "S",
           1
          ],
          [
           "female",
           "S",
           0
          ],
          [
           "female",
           "S",
           0
          ],
          [
           "male",
           "S",
           1
          ],
          [
           "male",
           "C",
           0
          ],
          [
           "male",
           "S",
           0
          ],
          [
           "female",
           "S",
           1
          ],
          [
           "male",
           "S",
           0
          ],
          [
           "male",
           "S",
           1
          ],
          [
           "male",
           "C",
           1
          ],
          [
           "male",
           "S",
           0
          ],
          [
           "male",
           "C",
           1
          ],
          [
           "female",
           "S",
           1
          ],
          [
           "male",
           "S",
           0
          ],
          [
           "female",
           "C",
           1
          ],
          [
           "female",
           "S",
           1
          ],
          [
           "female",
           "S",
           1
          ],
          [
           "male",
           "S",
           0
          ],
          [
           "male",
           "S",
           0
          ],
          [
           "male",
           "S",
           0
          ],
          [
           "male",
           "S",
           0
          ],
          [
           "female",
           "S",
           0
          ],
          [
           "male",
           "S",
           1
          ],
          [
           "male",
           "S",
           1
          ],
          [
           "female",
           "S",
           1
          ],
          [
           "male",
           "S",
           1
          ],
          [
           "male",
           "S",
           0
          ],
          [
           "male",
           "S",
           0
          ],
          [
           "female",
           "S",
           1
          ],
          [
           "female",
           "S",
           1
          ],
          [
           "male",
           "S",
           1
          ],
          [
           "female",
           "S",
           1
          ],
          [
           "female",
           "C",
           1
          ],
          [
           "male",
           "S",
           0
          ],
          [
           "male",
           "C",
           0
          ],
          [
           "female",
           "S",
           1
          ],
          [
           "male",
           "S",
           0
          ],
          [
           "male",
           "C",
           1
          ],
          [
           "male",
           "S",
           0
          ],
          [
           "male",
           "S",
           0
          ],
          [
           "female",
           "C",
           1
          ],
          [
           "male",
           "S",
           0
          ],
          [
           "male",
           "S",
           0
          ],
          [
           "male",
           "S",
           0
          ],
          [
           "male",
           "S",
           0
          ],
          [
           "male",
           "C",
           1
          ],
          [
           "female",
           "S",
           1
          ],
          [
           "male",
           "S",
           0
          ],
          [
           "male",
           "C",
           1
          ],
          [
           "male",
           "S",
           0
          ],
          [
           "male",
           "S",
           0
          ],
          [
           "male",
           "S",
           1
          ],
          [
           "female",
           "C",
           1
          ],
          [
           "female",
           "S",
           1
          ],
          [
           "female",
           "S",
           0
          ],
          [
           "male",
           "S",
           0
          ],
          [
           "female",
           "S",
           1
          ],
          [
           "male",
           "S",
           0
          ],
          [
           "female",
           "S",
           0
          ],
          [
           "female",
           "S",
           1
          ],
          [
           "male",
           "S",
           0
          ],
          [
           "male",
           "C",
           0
          ],
          [
           "male",
           "S",
           1
          ],
          [
           "male",
           "C",
           1
          ],
          [
           "male",
           "S",
           0
          ],
          [
           "male",
           "S",
           0
          ],
          [
           "male",
           "S",
           0
          ],
          [
           "male",
           "Q",
           0
          ],
          [
           "female",
           "S",
           1
          ],
          [
           "male",
           "S",
           0
          ],
          [
           "male",
           "S",
           1
          ],
          [
           "male",
           "S",
           0
          ],
          [
           "male",
           "C",
           1
          ],
          [
           "female",
           "S",
           0
          ],
          [
           "female",
           "S",
           1
          ],
          [
           "male",
           "S",
           0
          ],
          [
           "male",
           "S",
           0
          ],
          [
           "female",
           "S",
           0
          ],
          [
           "male",
           "S",
           0
          ],
          [
           "female",
           "C",
           1
          ],
          [
           "female",
           "S",
           0
          ],
          [
           "female",
           "C",
           1
          ],
          [
           "male",
           "C",
           1
          ],
          [
           "male",
           "S",
           0
          ],
          [
           "male",
           "C",
           1
          ],
          [
           "female",
           "S",
           1
          ],
          [
           "female",
           "S",
           1
          ],
          [
           "male",
           "S",
           0
          ],
          [
           "female",
           "Q",
           0
          ],
          [
           "male",
           "S",
           0
          ],
          [
           "female",
           "Q",
           0
          ],
          [
           "male",
           "S",
           0
          ],
          [
           "male",
           "C",
           0
          ],
          [
           "male",
           "S",
           1
          ],
          [
           "male",
           "C",
           0
          ],
          [
           "male",
           "S",
           0
          ],
          [
           "male",
           "S",
           0
          ],
          [
           "male",
           "S",
           1
          ],
          [
           "male",
           "S",
           0
          ],
          [
           "male",
           "S",
           0
          ],
          [
           "male",
           "S",
           0
          ],
          [
           "female",
           "S",
           1
          ],
          [
           "male",
           "S",
           0
          ],
          [
           "male",
           "S",
           0
          ],
          [
           "male",
           "S",
           1
          ],
          [
           "male",
           "S",
           0
          ],
          [
           "male",
           "S",
           0
          ],
          [
           "female",
           "S",
           1
          ],
          [
           "female",
           "S",
           0
          ],
          [
           "male",
           "C",
           1
          ],
          [
           "male",
           "C",
           1
          ],
          [
           "male",
           "S",
           0
          ],
          [
           "male",
           "S",
           0
          ],
          [
           "male",
           "S",
           0
          ],
          [
           "male",
           "C",
           0
          ],
          [
           "male",
           "S",
           0
          ],
          [
           "male",
           "S",
           0
          ],
          [
           "male",
           "S",
           0
          ],
          [
           "female",
           "S",
           1
          ],
          [
           "male",
           "S",
           1
          ],
          [
           "female",
           "C",
           1
          ],
          [
           "male",
           "C",
           0
          ],
          [
           "male",
           "S",
           0
          ],
          [
           "male",
           "S",
           0
          ],
          [
           "male",
           "S",
           0
          ],
          [
           "male",
           "C",
           0
          ],
          [
           "male",
           "S",
           0
          ],
          [
           "female",
           "C",
           1
          ],
          [
           "male",
           "S",
           1
          ],
          [
           "female",
           "C",
           0
          ],
          [
           "male",
           "Q",
           0
          ],
          [
           "male",
           "S",
           0
          ],
          [
           "male",
           "S",
           0
          ],
          [
           "female",
           "S",
           1
          ],
          [
           "male",
           "S",
           1
          ],
          [
           "female",
           "S",
           1
          ],
          [
           "female",
           "C",
           1
          ],
          [
           "male",
           "S",
           1
          ],
          [
           "male",
           "S",
           0
          ],
          [
           "male",
           "S",
           0
          ],
          [
           "male",
           "S",
           0
          ],
          [
           "female",
           "C",
           1
          ],
          [
           "female",
           "S",
           1
          ],
          [
           "male",
           "S",
           0
          ],
          [
           "female",
           "S",
           1
          ],
          [
           "male",
           "S",
           0
          ],
          [
           "male",
           "S",
           0
          ],
          [
           "male",
           "S",
           0
          ],
          [
           "male",
           "S",
           1
          ],
          [
           "male",
           "S",
           0
          ],
          [
           "female",
           "S",
           1
          ],
          [
           "male",
           "S",
           0
          ],
          [
           "female",
           "S",
           0
          ],
          [
           "female",
           "S",
           1
          ],
          [
           "male",
           "C",
           0
          ],
          [
           "male",
           "S",
           0
          ],
          [
           "male",
           "S",
           0
          ],
          [
           "male",
           "S",
           0
          ],
          [
           "female",
           "S",
           0
          ],
          [
           "male",
           "C",
           1
          ],
          [
           "male",
           "S",
           0
          ],
          [
           "female",
           "C",
           1
          ],
          [
           "male",
           "S",
           0
          ],
          [
           "male",
           "S",
           1
          ],
          [
           "male",
           "S",
           0
          ],
          [
           "male",
           "S",
           0
          ],
          [
           "female",
           "S",
           1
          ],
          [
           "male",
           "S",
           0
          ],
          [
           "male",
           "Q",
           0
          ],
          [
           "female",
           "S",
           1
          ],
          [
           "male",
           "S",
           1
          ],
          [
           "male",
           "S",
           0
          ],
          [
           "male",
           "S",
           0
          ],
          [
           "female",
           "S",
           1
          ],
          [
           "male",
           "S",
           1
          ],
          [
           "male",
           "S",
           0
          ],
          [
           "male",
           "S",
           0
          ],
          [
           "male",
           "S",
           0
          ],
          [
           "female",
           "S",
           1
          ],
          [
           "male",
           "S",
           0
          ],
          [
           "male",
           "C",
           1
          ],
          [
           "female",
           "S",
           1
          ],
          [
           "male",
           "S",
           0
          ],
          [
           "female",
           "S",
           1
          ],
          [
           "female",
           "Q",
           0
          ],
          [
           "male",
           "S",
           0
          ],
          [
           "male",
           "S",
           0
          ],
          [
           "male",
           "S",
           0
          ],
          [
           "female",
           "S",
           0
          ],
          [
           "female",
           "S",
           1
          ],
          [
           "male",
           "S",
           0
          ],
          [
           "female",
           "S",
           1
          ],
          [
           "female",
           "S",
           1
          ],
          [
           "female",
           "C",
           1
          ],
          [
           "female",
           "S",
           1
          ],
          [
           "male",
           "S",
           0
          ],
          [
           "male",
           "S",
           0
          ],
          [
           "male",
           "S",
           0
          ],
          [
           "female",
           "S",
           1
          ],
          [
           "male",
           "Q",
           0
          ],
          [
           "male",
           "S",
           1
          ],
          [
           "male",
           "C",
           0
          ],
          [
           "male",
           "S",
           0
          ],
          [
           "male",
           "S",
           0
          ],
          [
           "male",
           "S",
           0
          ],
          [
           "female",
           "S",
           1
          ],
          [
           "female",
           "S",
           1
          ],
          [
           "male",
           "C",
           0
          ],
          [
           "female",
           "S",
           0
          ],
          [
           "male",
           "S",
           0
          ],
          [
           "female",
           "S",
           1
          ],
          [
           "male",
           "S",
           1
          ],
          [
           "male",
           "C",
           1
          ],
          [
           "male",
           "S",
           1
          ],
          [
           "male",
           "S",
           0
          ],
          [
           "male",
           "S",
           0
          ],
          [
           "female",
           "S",
           0
          ],
          [
           "male",
           "S",
           0
          ],
          [
           "female",
           "S",
           1
          ],
          [
           "male",
           "S",
           0
          ],
          [
           "male",
           "S",
           0
          ],
          [
           "male",
           "S",
           0
          ],
          [
           "female",
           "S",
           0
          ],
          [
           "male",
           "S",
           0
          ],
          [
           "female",
           "S",
           0
          ],
          [
           "male",
           "C",
           0
          ],
          [
           "male",
           "S",
           0
          ],
          [
           "male",
           "S",
           0
          ],
          [
           "female",
           "S",
           1
          ],
          [
           "male",
           "S",
           1
          ],
          [
           "male",
           "S",
           0
          ],
          [
           "female",
           "S",
           1
          ],
          [
           "male",
           "S",
           0
          ],
          [
           "male",
           "C",
           1
          ],
          [
           "female",
           null,
           1
          ],
          [
           "female",
           "C",
           1
          ],
          [
           "male",
           "S",
           1
          ],
          [
           "male",
           "S",
           0
          ],
          [
           "male",
           "S",
           0
          ],
          [
           "female",
           "C",
           1
          ],
          [
           "male",
           "S",
           0
          ],
          [
           "male",
           "S",
           1
          ],
          [
           "male",
           "S",
           0
          ],
          [
           "male",
           "S",
           0
          ],
          [
           "female",
           "C",
           1
          ],
          [
           "male",
           "C",
           0
          ],
          [
           "male",
           "S",
           0
          ],
          [
           "male",
           "S",
           0
          ],
          [
           "male",
           "C",
           0
          ],
          [
           "male",
           "S",
           0
          ],
          [
           "male",
           "S",
           0
          ],
          [
           "male",
           "S",
           0
          ],
          [
           "female",
           "C",
           0
          ],
          [
           "female",
           "S",
           1
          ],
          [
           "female",
           "S",
           0
          ],
          [
           "female",
           "S",
           1
          ],
          [
           "female",
           "S",
           1
          ],
          [
           "male",
           "S",
           1
          ],
          [
           "female",
           "C",
           1
          ],
          [
           "male",
           "S",
           0
          ],
          [
           "male",
           "S",
           0
          ],
          [
           "female",
           "S",
           1
          ],
          [
           "male",
           "S",
           0
          ],
          [
           "female",
           "S",
           1
          ],
          [
           "female",
           "C",
           1
          ],
          [
           "male",
           "S",
           0
          ],
          [
           "male",
           "S",
           1
          ],
          [
           "male",
           "S",
           0
          ],
          [
           "female",
           "S",
           1
          ],
          [
           "male",
           "S",
           0
          ],
          [
           "male",
           "S",
           0
          ],
          [
           "female",
           "C",
           1
          ],
          [
           "female",
           "C",
           1
          ],
          [
           "male",
           "S",
           0
          ],
          [
           "male",
           "S",
           0
          ],
          [
           "female",
           "C",
           1
          ],
          [
           "female",
           "S",
           1
          ],
          [
           "male",
           "S",
           0
          ],
          [
           "female",
           "S",
           0
          ],
          [
           "male",
           "S",
           0
          ],
          [
           "male",
           "S",
           0
          ],
          [
           "female",
           "Q",
           0
          ],
          [
           "male",
           "S",
           0
          ],
          [
           "female",
           "S",
           1
          ],
          [
           "male",
           "C",
           1
          ],
          [
           "male",
           "Q",
           0
          ]
         ],
         "hovertemplate": "age=%{x}<br>fare paid=%{y}<br>sex=%{customdata[0]}<br>embarked=%{customdata[1]}<br>survived=%{customdata[2]}<br>Passenger Class=%{marker.color}<extra></extra>",
         "legendgroup": "",
         "marker": {
          "color": [
           3,
           1,
           3,
           1,
           3,
           1,
           3,
           3,
           2,
           3,
           1,
           3,
           3,
           3,
           2,
           3,
           3,
           2,
           2,
           3,
           1,
           3,
           3,
           1,
           1,
           2,
           1,
           1,
           3,
           3,
           3,
           3,
           2,
           2,
           3,
           3,
           3,
           3,
           1,
           2,
           1,
           2,
           3,
           2,
           3,
           3,
           1,
           1,
           3,
           2,
           3,
           3,
           3,
           2,
           3,
           2,
           3,
           3,
           3,
           2,
           3,
           3,
           3,
           1,
           2,
           3,
           3,
           1,
           3,
           3,
           3,
           1,
           3,
           3,
           1,
           1,
           2,
           2,
           3,
           1,
           3,
           3,
           3,
           3,
           3,
           1,
           3,
           3,
           3,
           3,
           3,
           3,
           2,
           1,
           3,
           2,
           2,
           2,
           1,
           3,
           3,
           3,
           3,
           3,
           3,
           2,
           2,
           2,
           1,
           1,
           3,
           1,
           3,
           3,
           3,
           2,
           2,
           3,
           3,
           2,
           2,
           2,
           1,
           3,
           3,
           1,
           3,
           3,
           3,
           2,
           3,
           3,
           3,
           3,
           3,
           3,
           1,
           3,
           3,
           3,
           1,
           3,
           1,
           2,
           3,
           3,
           2,
           3,
           1,
           3,
           3,
           2,
           2,
           3,
           2,
           1,
           1,
           3,
           2,
           3,
           3,
           3,
           3,
           3,
           3,
           3,
           3,
           1,
           3,
           2,
           3,
           2,
           1,
           3,
           2,
           1,
           2,
           3,
           2,
           3,
           1,
           3,
           2,
           3,
           2,
           1,
           3,
           2,
           3,
           2,
           2,
           2,
           2,
           2,
           2,
           3,
           3,
           1,
           3,
           2,
           1,
           2,
           3,
           1,
           3,
           3,
           3,
           1,
           1,
           2,
           3,
           1,
           1,
           2,
           3,
           3,
           1,
           1,
           3,
           2,
           1,
           1,
           3,
           3,
           3,
           3,
           3,
           3,
           3,
           3,
           3,
           3,
           2,
           3,
           1,
           1,
           2,
           3,
           3,
           3,
           1,
           1,
           3,
           1,
           1,
           2,
           1,
           1,
           1,
           2,
           3,
           2,
           3,
           2,
           2,
           1,
           1,
           3,
           3,
           2,
           2,
           1,
           3,
           2,
           3,
           1,
           1,
           1,
           3,
           1,
           1,
           3,
           1,
           2,
           1,
           2,
           2,
           2,
           2,
           2,
           3,
           3,
           3,
           3,
           3,
           3,
           1,
           2,
           3,
           2,
           3,
           3,
           3,
           1,
           1,
           1,
           3,
           3,
           1,
           3,
           3,
           1,
           3,
           3,
           1,
           3,
           3,
           1,
           2,
           3,
           2,
           2,
           1,
           3,
           3,
           1,
           3,
           3,
           3,
           2,
           2,
           2,
           3,
           3,
           3,
           3,
           3,
           2,
           3,
           2,
           3,
           1,
           3,
           2,
           2,
           2,
           3,
           3,
           3,
           3,
           3,
           2,
           2,
           3,
           1,
           2,
           3,
           1,
           1,
           3,
           2,
           1,
           2,
           2,
           3,
           3,
           2,
           1,
           2,
           1,
           3,
           1,
           2,
           1,
           1,
           3,
           1,
           2,
           1,
           3,
           1,
           2,
           3,
           1,
           3,
           3,
           2,
           2,
           3,
           2,
           3,
           3,
           3,
           3,
           3,
           3,
           1,
           1,
           1,
           3,
           3,
           3,
           1,
           1,
           3,
           1,
           1,
           3,
           3,
           3,
           3,
           1,
           1,
           2,
           3,
           3,
           3,
           1,
           1,
           3,
           1,
           2,
           2,
           3,
           1,
           3,
           1,
           3,
           2,
           3,
           2,
           2,
           3,
           3,
           2,
           1,
           1,
           1,
           1,
           3,
           3,
           2,
           1,
           1,
           2,
           3,
           2,
           1,
           2,
           3,
           3,
           1,
           1,
           1,
           3,
           3,
           2,
           3,
           3,
           3,
           3,
           2,
           1,
           1,
           3,
           3,
           2,
           1,
           3,
           2,
           1,
           2,
           1,
           1,
           2,
           1,
           3,
           3,
           1,
           3,
           2,
           3,
           3,
           1,
           2,
           3,
           1,
           3,
           3,
           1,
           2,
           1,
           3,
           3,
           2,
           3,
           3,
           2,
           2,
           3,
           1,
           3,
           3,
           3,
           1,
           2,
           1,
           3,
           1,
           3,
           1,
           3,
           2,
           3,
           2,
           3,
           3,
           1,
           3,
           3,
           1,
           3,
           1,
           3,
           2,
           3,
           3,
           2,
           3,
           2,
           1,
           1,
           3,
           1,
           3,
           3,
           2,
           2,
           3,
           2,
           1,
           2,
           2,
           3,
           3,
           3,
           3,
           1,
           1,
           3,
           3,
           2,
           2,
           3,
           3,
           3,
           1,
           1,
           3,
           3,
           1,
           2,
           3,
           1,
           3,
           1,
           1,
           3,
           3,
           3,
           2,
           2,
           1,
           1,
           1,
           1,
           3,
           2,
           3,
           1,
           2,
           3,
           2,
           3,
           2,
           2,
           1,
           3,
           2,
           2,
           3,
           1,
           3,
           2,
           2,
           3,
           3,
           1,
           1,
           1,
           3,
           3,
           1,
           3,
           2,
           1,
           3,
           2,
           3,
           3,
           3,
           2,
           2,
           3,
           2,
           3,
           1,
           3,
           3,
           1,
           3,
           1,
           3,
           3,
           3,
           3,
           2,
           2,
           3,
           3,
           1,
           3,
           1,
           1,
           3,
           3,
           3,
           3,
           3,
           1,
           2,
           3,
           2,
           1,
           3,
           3,
           3,
           2,
           2,
           1,
           3,
           3,
           3,
           1,
           3,
           2,
           1,
           3,
           3,
           2,
           3,
           3,
           3,
           2,
           3,
           3,
           1,
           3,
           1,
           3,
           3,
           2,
           1,
           3,
           2,
           3,
           3,
           1,
           3,
           3,
           3,
           2,
           1,
           3,
           3,
           3,
           3,
           2,
           3,
           3,
           3,
           1,
           2,
           3,
           1,
           1,
           3,
           3,
           2,
           1,
           2,
           2,
           2,
           1,
           3,
           3,
           1,
           1,
           3,
           2,
           3,
           3,
           3,
           1,
           2,
           3,
           3,
           2,
           3,
           3,
           2,
           1,
           1,
           3
          ],
          "coloraxis": "coloraxis",
          "symbol": "circle"
         },
         "mode": "markers",
         "name": "",
         "orientation": "v",
         "showlegend": false,
         "type": "scatter",
         "x": [
          22,
          38,
          26,
          35,
          35,
          54,
          2,
          27,
          14,
          4,
          58,
          20,
          39,
          14,
          55,
          2,
          31,
          35,
          34,
          15,
          28,
          8,
          38,
          19,
          40,
          66,
          28,
          42,
          21,
          18,
          14,
          40,
          27,
          3,
          19,
          18,
          7,
          21,
          49,
          29,
          65,
          21,
          28.5,
          5,
          11,
          22,
          38,
          45,
          4,
          29,
          19,
          17,
          26,
          32,
          16,
          21,
          26,
          32,
          25,
          0.83,
          30,
          22,
          29,
          28,
          17,
          33,
          16,
          23,
          24,
          29,
          20,
          46,
          26,
          59,
          71,
          23,
          34,
          34,
          28,
          21,
          33,
          37,
          28,
          21,
          38,
          47,
          14.5,
          22,
          20,
          17,
          21,
          70.5,
          29,
          24,
          2,
          21,
          32.5,
          32.5,
          54,
          12,
          24,
          45,
          33,
          20,
          47,
          29,
          25,
          23,
          19,
          37,
          16,
          24,
          22,
          24,
          19,
          18,
          19,
          27,
          9,
          36.5,
          42,
          51,
          22,
          55.5,
          40.5,
          51,
          16,
          30,
          44,
          40,
          26,
          17,
          1,
          9,
          45,
          28,
          61,
          4,
          1,
          21,
          56,
          18,
          50,
          30,
          36,
          9,
          1,
          4,
          45,
          40,
          36,
          32,
          19,
          19,
          3,
          44,
          58,
          42,
          24,
          28,
          34,
          45.5,
          18,
          2,
          32,
          26,
          16,
          40,
          24,
          35,
          22,
          30,
          31,
          27,
          42,
          32,
          30,
          16,
          27,
          51,
          38,
          22,
          19,
          20.5,
          18,
          35,
          29,
          59,
          5,
          24,
          44,
          8,
          19,
          33,
          29,
          22,
          30,
          44,
          25,
          24,
          37,
          54,
          29,
          62,
          30,
          41,
          29,
          30,
          35,
          50,
          3,
          52,
          40,
          36,
          16,
          25,
          58,
          35,
          25,
          41,
          37,
          63,
          45,
          7,
          35,
          65,
          28,
          16,
          19,
          33,
          30,
          22,
          42,
          22,
          26,
          19,
          36,
          24,
          24,
          23.5,
          2,
          50,
          19,
          0.92,
          17,
          30,
          30,
          24,
          18,
          26,
          28,
          43,
          26,
          24,
          54,
          31,
          40,
          22,
          27,
          30,
          22,
          36,
          61,
          36,
          31,
          16,
          45.5,
          38,
          16,
          29,
          41,
          45,
          45,
          2,
          24,
          28,
          25,
          36,
          24,
          40,
          3,
          42,
          23,
          15,
          25,
          28,
          22,
          38,
          40,
          29,
          45,
          35,
          30,
          60,
          24,
          25,
          18,
          19,
          22,
          3,
          22,
          27,
          20,
          19,
          42,
          1,
          32,
          35,
          18,
          1,
          36,
          17,
          36,
          21,
          28,
          23,
          24,
          22,
          31,
          46,
          23,
          28,
          39,
          26,
          21,
          28,
          20,
          34,
          51,
          3,
          21,
          33,
          44,
          34,
          18,
          30,
          10,
          21,
          29,
          28,
          18,
          28,
          19,
          32,
          28,
          42,
          17,
          50,
          14,
          21,
          24,
          64,
          31,
          45,
          20,
          25,
          28,
          4,
          13,
          34,
          5,
          52,
          36,
          30,
          49,
          29,
          65,
          50,
          48,
          34,
          47,
          48,
          38,
          56,
          0.75,
          38,
          33,
          23,
          22,
          34,
          29,
          22,
          2,
          9,
          50,
          63,
          25,
          35,
          58,
          30,
          9,
          21,
          55,
          71,
          21,
          54,
          25,
          24,
          17,
          21,
          37,
          16,
          18,
          33,
          28,
          26,
          29,
          36,
          54,
          24,
          47,
          34,
          36,
          32,
          30,
          22,
          44,
          40.5,
          50,
          39,
          23,
          2,
          17,
          30,
          7,
          45,
          30,
          22,
          36,
          9,
          11,
          32,
          50,
          64,
          19,
          33,
          8,
          17,
          27,
          22,
          22,
          62,
          48,
          39,
          36,
          40,
          28,
          24,
          19,
          29,
          32,
          62,
          53,
          36,
          16,
          19,
          34,
          39,
          32,
          25,
          39,
          54,
          36,
          18,
          47,
          60,
          22,
          35,
          52,
          47,
          37,
          36,
          49,
          49,
          24,
          44,
          35,
          36,
          30,
          27,
          22,
          40,
          39,
          35,
          24,
          34,
          26,
          4,
          26,
          27,
          42,
          20,
          21,
          21,
          61,
          57,
          21,
          26,
          80,
          51,
          32,
          9,
          28,
          32,
          31,
          41,
          20,
          24,
          2,
          0.75,
          48,
          19,
          56,
          23,
          18,
          21,
          18,
          24,
          32,
          23,
          58,
          50,
          40,
          47,
          36,
          20,
          32,
          25,
          43,
          40,
          31,
          70,
          31,
          18,
          24.5,
          18,
          43,
          36,
          27,
          20,
          14,
          60,
          25,
          14,
          19,
          18,
          15,
          31,
          4,
          25,
          60,
          52,
          44,
          49,
          42,
          18,
          35,
          18,
          25,
          26,
          39,
          45,
          42,
          22,
          24,
          48,
          29,
          52,
          19,
          38,
          27,
          33,
          6,
          17,
          34,
          50,
          27,
          20,
          30,
          25,
          25,
          29,
          11,
          23,
          23,
          28.5,
          48,
          35,
          36,
          21,
          24,
          31,
          70,
          16,
          30,
          19,
          31,
          4,
          6,
          33,
          23,
          48,
          0.67,
          28,
          18,
          34,
          33,
          41,
          20,
          36,
          16,
          51,
          30.5,
          32,
          24,
          48,
          57,
          54,
          18,
          5,
          43,
          13,
          17,
          29,
          25,
          25,
          18,
          8,
          1,
          46,
          16,
          25,
          39,
          49,
          31,
          30,
          30,
          34,
          31,
          11,
          0.42,
          27,
          31,
          39,
          18,
          39,
          33,
          26,
          39,
          35,
          6,
          30.5,
          23,
          31,
          43,
          10,
          52,
          27,
          38,
          27,
          2,
          1,
          62,
          15,
          0.83,
          23,
          18,
          39,
          21,
          32,
          20,
          16,
          30,
          34.5,
          17,
          42,
          35,
          28,
          4,
          74,
          9,
          16,
          44,
          18,
          45,
          51,
          24,
          41,
          21,
          48,
          24,
          42,
          27,
          31,
          4,
          26,
          47,
          33,
          47,
          28,
          15,
          20,
          19,
          56,
          25,
          33,
          22,
          28,
          25,
          39,
          27,
          19,
          26,
          32
         ],
         "xaxis": "x",
         "y": [
          7.25,
          71.2833,
          7.925,
          53.1,
          8.05,
          51.8625,
          21.075,
          11.1333,
          30.0708,
          16.7,
          26.55,
          8.05,
          31.275,
          7.8542,
          16,
          29.125,
          18,
          26,
          13,
          8.0292,
          35.5,
          21.075,
          31.3875,
          263,
          27.7208,
          10.5,
          82.1708,
          52,
          8.05,
          18,
          11.2417,
          9.475,
          21,
          41.5792,
          7.8792,
          17.8,
          39.6875,
          7.8,
          76.7292,
          26,
          61.9792,
          10.5,
          7.2292,
          27.75,
          46.9,
          7.2292,
          80,
          83.475,
          27.9,
          10.5,
          8.1583,
          7.925,
          8.6625,
          10.5,
          46.9,
          73.5,
          14.4542,
          56.4958,
          7.65,
          29,
          12.475,
          9,
          9.5,
          47.1,
          10.5,
          15.85,
          34.375,
          263,
          8.05,
          8.05,
          7.8542,
          61.175,
          20.575,
          7.25,
          34.6542,
          63.3583,
          23,
          26,
          7.8958,
          77.2875,
          8.6542,
          7.925,
          7.8958,
          7.65,
          7.8958,
          52,
          14.4542,
          8.05,
          9.825,
          14.4583,
          7.925,
          7.75,
          21,
          247.5208,
          31.275,
          73.5,
          30.0708,
          13,
          77.2875,
          11.2417,
          7.1417,
          6.975,
          7.8958,
          7.05,
          14.5,
          26,
          13,
          15.0458,
          26.2833,
          53.1,
          9.2167,
          79.2,
          7.75,
          15.85,
          6.75,
          11.5,
          36.75,
          7.7958,
          34.375,
          26,
          13,
          12.525,
          66.6,
          8.05,
          14.5,
          61.3792,
          7.7333,
          8.05,
          16.1,
          15.75,
          7.775,
          8.6625,
          39.6875,
          20.525,
          27.9,
          56.4958,
          33.5,
          29.125,
          11.1333,
          7.925,
          30.6958,
          7.8542,
          28.7125,
          13,
          0,
          31.3875,
          39,
          22.025,
          26.55,
          15.5,
          7.8958,
          13,
          13,
          7.8542,
          26,
          27.7208,
          146.5208,
          8.4042,
          13,
          9.5,
          6.4958,
          7.225,
          8.05,
          10.4625,
          15.85,
          18.7875,
          7.75,
          31,
          7.05,
          21,
          7.25,
          13,
          113.275,
          7.925,
          27,
          76.2917,
          10.5,
          8.05,
          13,
          8.05,
          90,
          9.35,
          10.5,
          7.25,
          13,
          83.475,
          7.775,
          13.5,
          31.3875,
          10.5,
          26,
          26.25,
          10.5,
          12.275,
          10.5,
          7.125,
          7.225,
          90,
          7.775,
          14.5,
          52.5542,
          26,
          10.4625,
          26.55,
          16.1,
          20.2125,
          15.2458,
          86.5,
          512.3292,
          26,
          31.3875,
          79.65,
          0,
          10.5,
          39.6875,
          7.775,
          153.4625,
          135.6333,
          0,
          19.5,
          29.7,
          77.9583,
          7.75,
          29.125,
          20.25,
          7.75,
          7.8542,
          9.5,
          8.05,
          8.6625,
          9.5,
          7.8958,
          13,
          7.75,
          78.85,
          91.0792,
          12.875,
          8.85,
          7.8958,
          7.2292,
          151.55,
          247.5208,
          0,
          151.55,
          108.9,
          24,
          56.9292,
          83.1583,
          262.375,
          26,
          7.8958,
          26.25,
          7.8542,
          26,
          14,
          164.8667,
          134.5,
          7.25,
          7.8958,
          12.35,
          29,
          135.6333,
          6.2375,
          13,
          20.525,
          57.9792,
          28.5,
          153.4625,
          18,
          66.6,
          134.5,
          8.05,
          35.5,
          26,
          263,
          13,
          13,
          13,
          13,
          13,
          15.9,
          8.6625,
          9.225,
          7.2292,
          17.8,
          9.5,
          55,
          13,
          27.9,
          27.7208,
          14.4542,
          7.05,
          7.25,
          75.25,
          69.3,
          55.4417,
          6.4958,
          8.05,
          135.6333,
          21.075,
          7.25,
          211.5,
          4.0125,
          7.775,
          227.525,
          15.7417,
          7.925,
          52,
          73.5,
          46.9,
          13,
          12,
          120,
          7.7958,
          7.925,
          113.275,
          16.7,
          7.7958,
          7.8542,
          26,
          10.5,
          12.65,
          7.925,
          8.05,
          9.825,
          15.85,
          8.6625,
          21,
          7.75,
          18.75,
          7.775,
          90,
          7.925,
          32.5,
          13,
          13,
          24.15,
          7.7333,
          7.875,
          14.4,
          20.2125,
          26,
          26,
          8.05,
          26.55,
          26,
          7.125,
          55.9,
          120,
          34.375,
          18.75,
          263,
          10.5,
          26.25,
          9.5,
          7.775,
          13,
          81.8583,
          19.5,
          26.55,
          19.2583,
          30.5,
          27.75,
          27.75,
          89.1042,
          7.8958,
          26.55,
          10.5,
          26.55,
          8.05,
          38.5,
          13,
          7.05,
          26.55,
          19.2583,
          8.6625,
          27.75,
          13.7917,
          9.8375,
          21,
          7.0458,
          7.5208,
          12.2875,
          46.9,
          8.05,
          9.5875,
          91.0792,
          90,
          29.7,
          8.05,
          15.9,
          7.25,
          30.5,
          49.5042,
          8.05,
          78.2667,
          151.55,
          7.7958,
          8.6625,
          7.75,
          9.5875,
          86.5,
          108.9,
          26,
          22.525,
          56.4958,
          7.75,
          26.2875,
          59.4,
          7.4958,
          34.0208,
          10.5,
          26,
          7.8958,
          93.5,
          7.8958,
          57.9792,
          7.75,
          10.5,
          7.925,
          11.5,
          26,
          7.2292,
          8.6625,
          26.25,
          26.55,
          106.425,
          49.5,
          71,
          31.275,
          31.275,
          26,
          106.425,
          26,
          26,
          20.525,
          36.75,
          110.8833,
          26,
          7.225,
          7.775,
          26.55,
          39.6,
          79.65,
          17.4,
          7.8958,
          13.5,
          24.15,
          7.8958,
          21.075,
          7.8542,
          10.5,
          51.4792,
          26.3875,
          8.05,
          14.5,
          13,
          55.9,
          7.925,
          30,
          110.8833,
          26,
          40.125,
          79.65,
          15,
          79.2,
          8.05,
          7.125,
          78.2667,
          7.25,
          26,
          24.15,
          0,
          56.9292,
          27,
          8.05,
          26.55,
          15.55,
          7.8958,
          30.5,
          41.5792,
          153.4625,
          31.275,
          8.05,
          65,
          14.4,
          16.1,
          39,
          10.5,
          14.4542,
          52.5542,
          15.7417,
          7.8542,
          16.1,
          32.3208,
          12.35,
          77.9583,
          7.8958,
          30,
          7.0542,
          30.5,
          27.9,
          13,
          7.925,
          26.25,
          39.6875,
          7.8542,
          69.3,
          27.9,
          19.2583,
          76.7292,
          7.8958,
          35.5,
          7.55,
          23,
          8.4333,
          6.75,
          73.5,
          15.5,
          13,
          113.275,
          133.65,
          7.225,
          25.5875,
          7.4958,
          7.925,
          73.5,
          13,
          8.05,
          39,
          52,
          10.5,
          13,
          7.775,
          8.05,
          9.8417,
          46.9,
          512.3292,
          76.7292,
          9.225,
          46.9,
          39,
          41.5792,
          39.6875,
          10.1708,
          7.7958,
          211.3375,
          57,
          13.4167,
          7.225,
          26.55,
          13.5,
          8.05,
          110.8833,
          7.65,
          227.525,
          26.2875,
          14.4542,
          7.7417,
          7.8542,
          26,
          13.5,
          26.2875,
          151.55,
          49.5042,
          52,
          9.4833,
          13,
          7.65,
          227.525,
          10.5,
          7.775,
          33,
          7.0542,
          13,
          13,
          53.1,
          8.6625,
          21,
          26,
          7.925,
          211.3375,
          18.7875,
          13,
          13,
          16.1,
          34.375,
          512.3292,
          78.85,
          262.375,
          16.1,
          7.925,
          71,
          20.25,
          13,
          53.1,
          7.75,
          23,
          12.475,
          9.5,
          7.8958,
          65,
          14.5,
          7.7958,
          11.5,
          8.05,
          86.5,
          7.125,
          7.2292,
          120,
          7.775,
          77.9583,
          7.75,
          8.3625,
          9.5,
          7.8542,
          10.5,
          23,
          7.75,
          12.475,
          211.3375,
          7.2292,
          57,
          30,
          7.05,
          7.25,
          7.4958,
          29.125,
          20.575,
          79.2,
          26,
          7.8958,
          13,
          25.9292,
          8.6833,
          7.2292,
          24.15,
          13,
          26.25,
          120,
          8.5167,
          6.975,
          7.775,
          0,
          7.775,
          13,
          53.1,
          7.8875,
          24.15,
          10.5,
          31.275,
          8.05,
          7.925,
          37.0042,
          6.45,
          27.9,
          93.5,
          8.6625,
          0,
          12.475,
          39.6875,
          37.0042,
          80,
          14.4542,
          18.75,
          7.8542,
          8.3,
          83.1583,
          8.6625,
          56.4958,
          7.925,
          10.5,
          31,
          6.4375,
          8.6625,
          7.55,
          7.8958,
          33,
          31.275,
          7.775,
          15.2458,
          39.4,
          26,
          9.35,
          164.8667,
          26.55,
          19.2583,
          14.1083,
          11.5,
          25.9292,
          13,
          13,
          13.8583,
          50.4958,
          11.1333,
          7.8958,
          52.5542,
          5,
          9,
          24,
          7.225,
          9.8458,
          7.8958,
          83.1583,
          26,
          7.8958,
          10.5167,
          10.5,
          7.05,
          29.125,
          13,
          30,
          30,
          7.75
         ],
         "yaxis": "y"
        }
       ],
       "layout": {
        "coloraxis": {
         "colorbar": {
          "title": {
           "text": "Passenger Class"
          }
         },
         "colorscale": [
          [
           0,
           "#0d0887"
          ],
          [
           0.1111111111111111,
           "#46039f"
          ],
          [
           0.2222222222222222,
           "#7201a8"
          ],
          [
           0.3333333333333333,
           "#9c179e"
          ],
          [
           0.4444444444444444,
           "#bd3786"
          ],
          [
           0.5555555555555556,
           "#d8576b"
          ],
          [
           0.6666666666666666,
           "#ed7953"
          ],
          [
           0.7777777777777778,
           "#fb9f3a"
          ],
          [
           0.8888888888888888,
           "#fdca26"
          ],
          [
           1,
           "#f0f921"
          ]
         ]
        },
        "legend": {
         "tracegroupgap": 0
        },
        "template": {
         "data": {
          "bar": [
           {
            "error_x": {
             "color": "#2a3f5f"
            },
            "error_y": {
             "color": "#2a3f5f"
            },
            "marker": {
             "line": {
              "color": "#E5ECF6",
              "width": 0.5
             },
             "pattern": {
              "fillmode": "overlay",
              "size": 10,
              "solidity": 0.2
             }
            },
            "type": "bar"
           }
          ],
          "barpolar": [
           {
            "marker": {
             "line": {
              "color": "#E5ECF6",
              "width": 0.5
             },
             "pattern": {
              "fillmode": "overlay",
              "size": 10,
              "solidity": 0.2
             }
            },
            "type": "barpolar"
           }
          ],
          "carpet": [
           {
            "aaxis": {
             "endlinecolor": "#2a3f5f",
             "gridcolor": "white",
             "linecolor": "white",
             "minorgridcolor": "white",
             "startlinecolor": "#2a3f5f"
            },
            "baxis": {
             "endlinecolor": "#2a3f5f",
             "gridcolor": "white",
             "linecolor": "white",
             "minorgridcolor": "white",
             "startlinecolor": "#2a3f5f"
            },
            "type": "carpet"
           }
          ],
          "choropleth": [
           {
            "colorbar": {
             "outlinewidth": 0,
             "ticks": ""
            },
            "type": "choropleth"
           }
          ],
          "contour": [
           {
            "colorbar": {
             "outlinewidth": 0,
             "ticks": ""
            },
            "colorscale": [
             [
              0,
              "#0d0887"
             ],
             [
              0.1111111111111111,
              "#46039f"
             ],
             [
              0.2222222222222222,
              "#7201a8"
             ],
             [
              0.3333333333333333,
              "#9c179e"
             ],
             [
              0.4444444444444444,
              "#bd3786"
             ],
             [
              0.5555555555555556,
              "#d8576b"
             ],
             [
              0.6666666666666666,
              "#ed7953"
             ],
             [
              0.7777777777777778,
              "#fb9f3a"
             ],
             [
              0.8888888888888888,
              "#fdca26"
             ],
             [
              1,
              "#f0f921"
             ]
            ],
            "type": "contour"
           }
          ],
          "contourcarpet": [
           {
            "colorbar": {
             "outlinewidth": 0,
             "ticks": ""
            },
            "type": "contourcarpet"
           }
          ],
          "heatmap": [
           {
            "colorbar": {
             "outlinewidth": 0,
             "ticks": ""
            },
            "colorscale": [
             [
              0,
              "#0d0887"
             ],
             [
              0.1111111111111111,
              "#46039f"
             ],
             [
              0.2222222222222222,
              "#7201a8"
             ],
             [
              0.3333333333333333,
              "#9c179e"
             ],
             [
              0.4444444444444444,
              "#bd3786"
             ],
             [
              0.5555555555555556,
              "#d8576b"
             ],
             [
              0.6666666666666666,
              "#ed7953"
             ],
             [
              0.7777777777777778,
              "#fb9f3a"
             ],
             [
              0.8888888888888888,
              "#fdca26"
             ],
             [
              1,
              "#f0f921"
             ]
            ],
            "type": "heatmap"
           }
          ],
          "heatmapgl": [
           {
            "colorbar": {
             "outlinewidth": 0,
             "ticks": ""
            },
            "colorscale": [
             [
              0,
              "#0d0887"
             ],
             [
              0.1111111111111111,
              "#46039f"
             ],
             [
              0.2222222222222222,
              "#7201a8"
             ],
             [
              0.3333333333333333,
              "#9c179e"
             ],
             [
              0.4444444444444444,
              "#bd3786"
             ],
             [
              0.5555555555555556,
              "#d8576b"
             ],
             [
              0.6666666666666666,
              "#ed7953"
             ],
             [
              0.7777777777777778,
              "#fb9f3a"
             ],
             [
              0.8888888888888888,
              "#fdca26"
             ],
             [
              1,
              "#f0f921"
             ]
            ],
            "type": "heatmapgl"
           }
          ],
          "histogram": [
           {
            "marker": {
             "pattern": {
              "fillmode": "overlay",
              "size": 10,
              "solidity": 0.2
             }
            },
            "type": "histogram"
           }
          ],
          "histogram2d": [
           {
            "colorbar": {
             "outlinewidth": 0,
             "ticks": ""
            },
            "colorscale": [
             [
              0,
              "#0d0887"
             ],
             [
              0.1111111111111111,
              "#46039f"
             ],
             [
              0.2222222222222222,
              "#7201a8"
             ],
             [
              0.3333333333333333,
              "#9c179e"
             ],
             [
              0.4444444444444444,
              "#bd3786"
             ],
             [
              0.5555555555555556,
              "#d8576b"
             ],
             [
              0.6666666666666666,
              "#ed7953"
             ],
             [
              0.7777777777777778,
              "#fb9f3a"
             ],
             [
              0.8888888888888888,
              "#fdca26"
             ],
             [
              1,
              "#f0f921"
             ]
            ],
            "type": "histogram2d"
           }
          ],
          "histogram2dcontour": [
           {
            "colorbar": {
             "outlinewidth": 0,
             "ticks": ""
            },
            "colorscale": [
             [
              0,
              "#0d0887"
             ],
             [
              0.1111111111111111,
              "#46039f"
             ],
             [
              0.2222222222222222,
              "#7201a8"
             ],
             [
              0.3333333333333333,
              "#9c179e"
             ],
             [
              0.4444444444444444,
              "#bd3786"
             ],
             [
              0.5555555555555556,
              "#d8576b"
             ],
             [
              0.6666666666666666,
              "#ed7953"
             ],
             [
              0.7777777777777778,
              "#fb9f3a"
             ],
             [
              0.8888888888888888,
              "#fdca26"
             ],
             [
              1,
              "#f0f921"
             ]
            ],
            "type": "histogram2dcontour"
           }
          ],
          "mesh3d": [
           {
            "colorbar": {
             "outlinewidth": 0,
             "ticks": ""
            },
            "type": "mesh3d"
           }
          ],
          "parcoords": [
           {
            "line": {
             "colorbar": {
              "outlinewidth": 0,
              "ticks": ""
             }
            },
            "type": "parcoords"
           }
          ],
          "pie": [
           {
            "automargin": true,
            "type": "pie"
           }
          ],
          "scatter": [
           {
            "fillpattern": {
             "fillmode": "overlay",
             "size": 10,
             "solidity": 0.2
            },
            "type": "scatter"
           }
          ],
          "scatter3d": [
           {
            "line": {
             "colorbar": {
              "outlinewidth": 0,
              "ticks": ""
             }
            },
            "marker": {
             "colorbar": {
              "outlinewidth": 0,
              "ticks": ""
             }
            },
            "type": "scatter3d"
           }
          ],
          "scattercarpet": [
           {
            "marker": {
             "colorbar": {
              "outlinewidth": 0,
              "ticks": ""
             }
            },
            "type": "scattercarpet"
           }
          ],
          "scattergeo": [
           {
            "marker": {
             "colorbar": {
              "outlinewidth": 0,
              "ticks": ""
             }
            },
            "type": "scattergeo"
           }
          ],
          "scattergl": [
           {
            "marker": {
             "colorbar": {
              "outlinewidth": 0,
              "ticks": ""
             }
            },
            "type": "scattergl"
           }
          ],
          "scattermapbox": [
           {
            "marker": {
             "colorbar": {
              "outlinewidth": 0,
              "ticks": ""
             }
            },
            "type": "scattermapbox"
           }
          ],
          "scatterpolar": [
           {
            "marker": {
             "colorbar": {
              "outlinewidth": 0,
              "ticks": ""
             }
            },
            "type": "scatterpolar"
           }
          ],
          "scatterpolargl": [
           {
            "marker": {
             "colorbar": {
              "outlinewidth": 0,
              "ticks": ""
             }
            },
            "type": "scatterpolargl"
           }
          ],
          "scatterternary": [
           {
            "marker": {
             "colorbar": {
              "outlinewidth": 0,
              "ticks": ""
             }
            },
            "type": "scatterternary"
           }
          ],
          "surface": [
           {
            "colorbar": {
             "outlinewidth": 0,
             "ticks": ""
            },
            "colorscale": [
             [
              0,
              "#0d0887"
             ],
             [
              0.1111111111111111,
              "#46039f"
             ],
             [
              0.2222222222222222,
              "#7201a8"
             ],
             [
              0.3333333333333333,
              "#9c179e"
             ],
             [
              0.4444444444444444,
              "#bd3786"
             ],
             [
              0.5555555555555556,
              "#d8576b"
             ],
             [
              0.6666666666666666,
              "#ed7953"
             ],
             [
              0.7777777777777778,
              "#fb9f3a"
             ],
             [
              0.8888888888888888,
              "#fdca26"
             ],
             [
              1,
              "#f0f921"
             ]
            ],
            "type": "surface"
           }
          ],
          "table": [
           {
            "cells": {
             "fill": {
              "color": "#EBF0F8"
             },
             "line": {
              "color": "white"
             }
            },
            "header": {
             "fill": {
              "color": "#C8D4E3"
             },
             "line": {
              "color": "white"
             }
            },
            "type": "table"
           }
          ]
         },
         "layout": {
          "annotationdefaults": {
           "arrowcolor": "#2a3f5f",
           "arrowhead": 0,
           "arrowwidth": 1
          },
          "autotypenumbers": "strict",
          "coloraxis": {
           "colorbar": {
            "outlinewidth": 0,
            "ticks": ""
           }
          },
          "colorscale": {
           "diverging": [
            [
             0,
             "#8e0152"
            ],
            [
             0.1,
             "#c51b7d"
            ],
            [
             0.2,
             "#de77ae"
            ],
            [
             0.3,
             "#f1b6da"
            ],
            [
             0.4,
             "#fde0ef"
            ],
            [
             0.5,
             "#f7f7f7"
            ],
            [
             0.6,
             "#e6f5d0"
            ],
            [
             0.7,
             "#b8e186"
            ],
            [
             0.8,
             "#7fbc41"
            ],
            [
             0.9,
             "#4d9221"
            ],
            [
             1,
             "#276419"
            ]
           ],
           "sequential": [
            [
             0,
             "#0d0887"
            ],
            [
             0.1111111111111111,
             "#46039f"
            ],
            [
             0.2222222222222222,
             "#7201a8"
            ],
            [
             0.3333333333333333,
             "#9c179e"
            ],
            [
             0.4444444444444444,
             "#bd3786"
            ],
            [
             0.5555555555555556,
             "#d8576b"
            ],
            [
             0.6666666666666666,
             "#ed7953"
            ],
            [
             0.7777777777777778,
             "#fb9f3a"
            ],
            [
             0.8888888888888888,
             "#fdca26"
            ],
            [
             1,
             "#f0f921"
            ]
           ],
           "sequentialminus": [
            [
             0,
             "#0d0887"
            ],
            [
             0.1111111111111111,
             "#46039f"
            ],
            [
             0.2222222222222222,
             "#7201a8"
            ],
            [
             0.3333333333333333,
             "#9c179e"
            ],
            [
             0.4444444444444444,
             "#bd3786"
            ],
            [
             0.5555555555555556,
             "#d8576b"
            ],
            [
             0.6666666666666666,
             "#ed7953"
            ],
            [
             0.7777777777777778,
             "#fb9f3a"
            ],
            [
             0.8888888888888888,
             "#fdca26"
            ],
            [
             1,
             "#f0f921"
            ]
           ]
          },
          "colorway": [
           "#636efa",
           "#EF553B",
           "#00cc96",
           "#ab63fa",
           "#FFA15A",
           "#19d3f3",
           "#FF6692",
           "#B6E880",
           "#FF97FF",
           "#FECB52"
          ],
          "font": {
           "color": "#2a3f5f"
          },
          "geo": {
           "bgcolor": "white",
           "lakecolor": "white",
           "landcolor": "#E5ECF6",
           "showlakes": true,
           "showland": true,
           "subunitcolor": "white"
          },
          "hoverlabel": {
           "align": "left"
          },
          "hovermode": "closest",
          "mapbox": {
           "style": "light"
          },
          "paper_bgcolor": "white",
          "plot_bgcolor": "#E5ECF6",
          "polar": {
           "angularaxis": {
            "gridcolor": "white",
            "linecolor": "white",
            "ticks": ""
           },
           "bgcolor": "#E5ECF6",
           "radialaxis": {
            "gridcolor": "white",
            "linecolor": "white",
            "ticks": ""
           }
          },
          "scene": {
           "xaxis": {
            "backgroundcolor": "#E5ECF6",
            "gridcolor": "white",
            "gridwidth": 2,
            "linecolor": "white",
            "showbackground": true,
            "ticks": "",
            "zerolinecolor": "white"
           },
           "yaxis": {
            "backgroundcolor": "#E5ECF6",
            "gridcolor": "white",
            "gridwidth": 2,
            "linecolor": "white",
            "showbackground": true,
            "ticks": "",
            "zerolinecolor": "white"
           },
           "zaxis": {
            "backgroundcolor": "#E5ECF6",
            "gridcolor": "white",
            "gridwidth": 2,
            "linecolor": "white",
            "showbackground": true,
            "ticks": "",
            "zerolinecolor": "white"
           }
          },
          "shapedefaults": {
           "line": {
            "color": "#2a3f5f"
           }
          },
          "ternary": {
           "aaxis": {
            "gridcolor": "white",
            "linecolor": "white",
            "ticks": ""
           },
           "baxis": {
            "gridcolor": "white",
            "linecolor": "white",
            "ticks": ""
           },
           "bgcolor": "#E5ECF6",
           "caxis": {
            "gridcolor": "white",
            "linecolor": "white",
            "ticks": ""
           }
          },
          "title": {
           "x": 0.05
          },
          "xaxis": {
           "automargin": true,
           "gridcolor": "white",
           "linecolor": "white",
           "ticks": "",
           "title": {
            "standoff": 15
           },
           "zerolinecolor": "white",
           "zerolinewidth": 2
          },
          "yaxis": {
           "automargin": true,
           "gridcolor": "white",
           "linecolor": "white",
           "ticks": "",
           "title": {
            "standoff": 15
           },
           "zerolinecolor": "white",
           "zerolinewidth": 2
          }
         }
        },
        "title": {
         "text": "Relationship between Age and Fare Paid by Titanic Passengers"
        },
        "xaxis": {
         "anchor": "y",
         "domain": [
          0,
          1
         ],
         "title": {
          "text": "age"
         }
        },
        "yaxis": {
         "anchor": "x",
         "domain": [
          0,
          1
         ],
         "title": {
          "text": "fare paid"
         }
        }
       }
      },
      "text/html": [
       "<div>                            <div id=\"da3a70d2-8f9f-4d40-937c-f3e31609fcb8\" class=\"plotly-graph-div\" style=\"height:525px; width:100%;\"></div>            <script type=\"text/javascript\">                require([\"plotly\"], function(Plotly) {                    window.PLOTLYENV=window.PLOTLYENV || {};                                    if (document.getElementById(\"da3a70d2-8f9f-4d40-937c-f3e31609fcb8\")) {                    Plotly.newPlot(                        \"da3a70d2-8f9f-4d40-937c-f3e31609fcb8\",                        [{\"customdata\":[[\"male\",\"S\",0],[\"female\",\"C\",1],[\"female\",\"S\",1],[\"female\",\"S\",1],[\"male\",\"S\",0],[\"male\",\"S\",0],[\"male\",\"S\",0],[\"female\",\"S\",1],[\"female\",\"C\",1],[\"female\",\"S\",1],[\"female\",\"S\",1],[\"male\",\"S\",0],[\"male\",\"S\",0],[\"female\",\"S\",0],[\"female\",\"S\",1],[\"male\",\"Q\",0],[\"female\",\"S\",0],[\"male\",\"S\",0],[\"male\",\"S\",1],[\"female\",\"Q\",1],[\"male\",\"S\",1],[\"female\",\"S\",0],[\"female\",\"S\",1],[\"male\",\"S\",0],[\"male\",\"C\",0],[\"male\",\"S\",0],[\"male\",\"C\",0],[\"male\",\"S\",0],[\"male\",\"S\",0],[\"female\",\"S\",0],[\"female\",\"C\",1],[\"female\",\"S\",0],[\"female\",\"S\",0],[\"female\",\"C\",1],[\"female\",\"Q\",1],[\"female\",\"S\",0],[\"male\",\"S\",0],[\"male\",\"S\",0],[\"female\",\"C\",1],[\"female\",\"S\",1],[\"male\",\"C\",0],[\"female\",\"S\",1],[\"male\",\"C\",0],[\"female\",\"S\",1],[\"male\",\"S\",0],[\"male\",\"C\",0],[\"female\",null,1],[\"male\",\"S\",0],[\"male\",\"S\",0],[\"female\",\"S\",1],[\"male\",\"S\",0],[\"female\",\"S\",1],[\"male\",\"S\",0],[\"male\",\"S\",0],[\"female\",\"S\",0],[\"male\",\"S\",0],[\"male\",\"C\",0],[\"male\",\"S\",1],[\"male\",\"S\",0],[\"male\",\"S\",1],[\"female\",\"S\",1],[\"male\",\"S\",0],[\"male\",\"S\",1],[\"male\",\"S\",0],[\"female\",\"S\",1],[\"female\",\"S\",1],[\"male\",\"S\",0],[\"female\",\"S\",1],[\"male\",\"S\",0],[\"male\",\"S\",0],[\"male\",\"S\",0],[\"male\",\"S\",0],[\"male\",\"S\",0],[\"male\",\"S\",0],[\"male\",\"C\",0],[\"male\",\"C\",1],[\"female\",\"S\",1],[\"male\",\"S\",0],[\"female\",\"S\",0],[\"male\",\"S\",0],[\"male\",\"S\",0],[\"male\",\"S\",0],[\"male\",\"S\",0],[\"female\",\"S\",1],[\"male\",\"S\",0],[\"male\",\"S\",0],[\"female\",\"C\",0],[\"male\",\"S\",0],[\"female\",\"S\",0],[\"female\",\"C\",0],[\"male\",\"S\",0],[\"male\",\"Q\",0],[\"male\",\"S\",0],[\"male\",\"C\",0],[\"female\",\"S\",0],[\"male\",\"S\",0],[\"male\",\"C\",0],[\"female\",\"S\",1],[\"male\",\"S\",0],[\"male\",\"C\",1],[\"male\",\"S\",1],[\"male\",\"S\",0],[\"male\",\"C\",0],[\"male\",\"S\",0],[\"female\",\"S\",0],[\"female\",\"S\",1],[\"male\",\"S\",0],[\"male\",\"C\",0],[\"female\",\"S\",1],[\"male\",\"S\",0],[\"male\",\"S\",0],[\"male\",\"C\",0],[\"female\",\"S\",1],[\"female\",\"S\",1],[\"male\",\"Q\",0],[\"male\",\"S\",0],[\"male\",\"S\",0],[\"male\",\"S\",1],[\"female\",\"S\",0],[\"male\",\"S\",0],[\"male\",\"S\",0],[\"male\",\"S\",0],[\"female\",\"S\",1],[\"male\",\"S\",0],[\"male\",\"S\",0],[\"male\",\"C\",0],[\"female\",\"Q\",1],[\"male\",\"S\",0],[\"male\",\"S\",0],[\"female\",\"S\",1],[\"male\",\"S\",0],[\"male\",\"S\",0],[\"male\",\"S\",0],[\"male\",\"S\",1],[\"female\",\"S\",0],[\"male\",\"S\",0],[\"male\",\"S\",0],[\"male\",\"Q\",0],[\"female\",\"S\",1],[\"male\",\"S\",0],[\"male\",\"C\",0],[\"male\",\"S\",0],[\"female\",\"C\",0],[\"male\",\"S\",0],[\"male\",\"S\",0],[\"male\",\"S\",0],[\"male\",\"S\",1],[\"female\",\"S\",1],[\"male\",\"S\",1],[\"male\",\"Q\",0],[\"male\",\"S\",0],[\"female\",\"S\",1],[\"male\",\"S\",0],[\"female\",\"S\",1],[\"male\",\"S\",1],[\"female\",\"C\",1],[\"female\",\"C\",1],[\"male\",\"S\",0],[\"female\",\"S\",0],[\"male\",\"S\",0],[\"male\",\"S\",0],[\"male\",\"C\",0],[\"male\",\"S\",1],[\"female\",\"S\",0],[\"male\",\"S\",0],[\"male\",\"C\",1],[\"female\",\"Q\",1],[\"male\",\"C\",1],[\"male\",\"S\",0],[\"female\",\"S\",1],[\"male\",\"S\",0],[\"male\",\"S\",0],[\"female\",\"C\",1],[\"female\",\"S\",1],[\"male\",\"S\",0],[\"female\",\"C\",1],[\"male\",\"S\",0],[\"male\",\"S\",1],[\"male\",\"S\",0],[\"male\",\"S\",0],[\"male\",\"S\",1],[\"male\",\"S\",0],[\"male\",\"S\",1],[\"male\",\"S\",0],[\"male\",\"S\",0],[\"female\",\"S\",1],[\"male\",\"S\",0],[\"male\",\"S\",0],[\"female\",\"S\",1],[\"male\",\"S\",0],[\"male\",\"S\",0],[\"female\",\"S\",1],[\"male\",\"S\",0],[\"male\",\"S\",0],[\"male\",\"S\",0],[\"male\",\"S\",0],[\"male\",\"C\",0],[\"male\",\"Q\",0],[\"female\",\"S\",0],[\"female\",\"S\",1],[\"male\",\"S\",1],[\"male\",\"S\",0],[\"female\",\"S\",0],[\"male\",\"S\",0],[\"male\",\"S\",0],[\"female\",\"S\",0],[\"female\",\"C\",1],[\"female\",\"S\",1],[\"female\",\"C\",1],[\"female\",\"S\",1],[\"male\",\"S\",1],[\"male\",\"S\",0],[\"male\",\"S\",0],[\"male\",\"S\",0],[\"male\",\"S\",0],[\"male\",\"S\",1],[\"female\",\"S\",1],[\"female\",\"S\",1],[\"male\",\"S\",1],[\"female\",\"S\",1],[\"male\",\"C\",0],[\"female\",\"S\",1],[\"female\",\"S\",0],[\"male\",\"Q\",0],[\"female\",\"S\",1],[\"male\",\"Q\",0],[\"male\",\"S\",0],[\"male\",\"S\",0],[\"male\",\"S\",1],[\"male\",\"C\",0],[\"male\",\"S\",1],[\"male\",\"S\",0],[\"male\",\"S\",1],[\"female\",\"Q\",1],[\"female\",\"S\",1],[\"female\",\"C\",1],[\"male\",\"C\",0],[\"female\",\"S\",0],[\"male\",\"S\",0],[\"male\",\"C\",0],[\"female\",\"S\",0],[\"female\",\"C\",1],[\"male\",\"S\",0],[\"male\",\"S\",1],[\"female\",\"C\",1],[\"male\",\"C\",0],[\"female\",\"C\",1],[\"female\",\"C\",1],[\"female\",\"C\",1],[\"female\",\"S\",0],[\"male\",\"S\",0],[\"male\",\"S\",0],[\"female\",\"S\",1],[\"female\",\"S\",1],[\"male\",\"S\",0],[\"female\",\"S\",1],[\"female\",\"C\",1],[\"male\",\"S\",0],[\"male\",\"S\",0],[\"female\",\"Q\",1],[\"female\",\"S\",1],[\"female\",\"C\",1],[\"male\",\"S\",0],[\"female\",\"S\",1],[\"female\",\"S\",1],[\"female\",\"C\",1],[\"male\",\"S\",0],[\"male\",\"S\",0],[\"male\",\"S\",0],[\"male\",\"S\",0],[\"female\",\"C\",1],[\"male\",\"S\",1],[\"male\",\"S\",0],[\"male\",\"S\",1],[\"female\",\"S\",1],[\"male\",\"S\",0],[\"male\",\"S\",0],[\"male\",\"S\",0],[\"female\",\"S\",1],[\"female\",\"S\",1],[\"male\",\"S\",1],[\"male\",\"S\",0],[\"male\",\"S\",0],[\"male\",\"C\",0],[\"male\",\"S\",0],[\"male\",\"S\",0],[\"female\",\"S\",1],[\"female\",\"S\",0],[\"male\",\"S\",0],[\"male\",\"C\",0],[\"female\",\"C\",0],[\"male\",\"S\",0],[\"male\",\"S\",0],[\"female\",\"C\",1],[\"female\",\"C\",1],[\"male\",\"C\",1],[\"male\",\"S\",0],[\"male\",\"S\",0],[\"male\",\"C\",0],[\"female\",\"S\",0],[\"female\",\"S\",1],[\"male\",\"C\",0],[\"male\",\"C\",0],[\"male\",\"S\",0],[\"female\",\"C\",1],[\"female\",\"C\",1],[\"male\",\"S\",0],[\"female\",\"S\",1],[\"male\",\"S\",0],[\"male\",\"S\",0],[\"female\",\"S\",1],[\"female\",\"C\",1],[\"male\",\"S\",1],[\"male\",\"S\",1],[\"male\",\"S\",0],[\"female\",\"C\",1],[\"female\",\"S\",1],[\"male\",\"S\",0],[\"female\",\"S\",0],[\"male\",\"S\",0],[\"male\",\"S\",0],[\"female\",\"S\",1],[\"male\",\"S\",1],[\"male\",\"S\",0],[\"female\",\"S\",0],[\"male\",\"S\",0],[\"female\",\"S\",0],[\"male\",\"S\",0],[\"male\",\"S\",0],[\"male\",\"S\",1],[\"male\",\"S\",0],[\"female\",\"Q\",1],[\"male\",\"S\",1],[\"female\",\"S\",1],[\"female\",\"S\",1],[\"male\",\"S\",0],[\"female\",\"S\",0],[\"male\",\"Q\",0],[\"male\",\"S\",0],[\"female\",\"S\",0],[\"male\",\"S\",0],[\"female\",\"S\",1],[\"female\",\"S\",1],[\"male\",\"S\",1],[\"male\",\"S\",1],[\"female\",\"S\",1],[\"male\",\"S\",0],[\"male\",\"S\",0],[\"female\",\"S\",1],[\"female\",\"S\",0],[\"female\",\"S\",1],[\"male\",\"S\",0],[\"male\",\"S\",0],[\"female\",\"S\",1],[\"male\",\"S\",0],[\"male\",\"S\",0],[\"female\",\"S\",1],[\"male\",\"S\",1],[\"female\",\"S\",1],[\"male\",\"S\",1],[\"female\",\"C\",1],[\"male\",\"S\",1],[\"male\",\"S\",0],[\"male\",\"C\",0],[\"male\",\"C\",1],[\"male\",\"C\",1],[\"male\",\"S\",0],[\"female\",\"S\",1],[\"male\",\"S\",1],[\"male\",\"S\",0],[\"male\",\"S\",0],[\"male\",\"S\",0],[\"male\",\"S\",0],[\"male\",\"S\",0],[\"female\",\"C\",1],[\"male\",\"S\",0],[\"female\",\"S\",1],[\"female\",\"C\",1],[\"female\",\"S\",0],[\"male\",\"S\",0],[\"male\",\"S\",0],[\"male\",\"S\",0],[\"female\",\"S\",1],[\"male\",\"S\",0],[\"male\",\"S\",0],[\"female\",\"S\",1],[\"male\",\"C\",1],[\"female\",\"S\",1],[\"male\",\"C\",0],[\"male\",\"S\",0],[\"male\",\"S\",1],[\"male\",\"S\",0],[\"male\",\"S\",0],[\"male\",\"C\",0],[\"male\",\"S\",0],[\"female\",\"C\",1],[\"female\",\"S\",0],[\"male\",\"S\",0],[\"male\",\"S\",0],[\"female\",\"Q\",0],[\"female\",\"S\",0],[\"female\",\"S\",1],[\"male\",\"C\",0],[\"female\",\"S\",1],[\"male\",\"S\",0],[\"male\",\"S\",1],[\"male\",\"Q\",1],[\"male\",\"S\",1],[\"female\",\"C\",1],[\"male\",\"S\",0],[\"male\",\"S\",0],[\"female\",\"S\",1],[\"female\",\"S\",1],[\"male\",\"S\",0],[\"female\",\"S\",1],[\"male\",\"S\",0],[\"female\",\"C\",1],[\"male\",\"Q\",0],[\"female\",\"S\",1],[\"male\",\"S\",0],[\"male\",\"S\",0],[\"female\",\"S\",1],[\"male\",\"C\",0],[\"female\",\"S\",0],[\"female\",\"S\",1],[\"male\",\"S\",0],[\"female\",\"C\",1],[\"female\",\"C\",1],[\"female\",\"S\",1],[\"female\",\"S\",0],[\"female\",\"S\",0],[\"male\",\"S\",1],[\"male\",\"C\",0],[\"male\",\"S\",0],[\"female\",\"S\",1],[\"male\",\"S\",0],[\"male\",\"S\",1],[\"male\",\"C\",1],[\"male\",\"S\",0],[\"male\",\"C\",1],[\"female\",\"S\",1],[\"male\",\"S\",0],[\"female\",\"C\",1],[\"female\",\"S\",1],[\"female\",\"S\",1],[\"male\",\"S\",0],[\"male\",\"S\",0],[\"male\",\"S\",0],[\"male\",\"S\",0],[\"female\",\"S\",0],[\"male\",\"S\",1],[\"male\",\"S\",1],[\"female\",\"S\",1],[\"male\",\"S\",1],[\"male\",\"S\",0],[\"male\",\"S\",0],[\"female\",\"S\",1],[\"female\",\"S\",1],[\"male\",\"S\",1],[\"female\",\"S\",1],[\"female\",\"C\",1],[\"male\",\"S\",0],[\"male\",\"C\",0],[\"female\",\"S\",1],[\"male\",\"S\",0],[\"male\",\"C\",1],[\"male\",\"S\",0],[\"male\",\"S\",0],[\"female\",\"C\",1],[\"male\",\"S\",0],[\"male\",\"S\",0],[\"male\",\"S\",0],[\"male\",\"S\",0],[\"male\",\"C\",1],[\"female\",\"S\",1],[\"male\",\"S\",0],[\"male\",\"C\",1],[\"male\",\"S\",0],[\"male\",\"S\",0],[\"male\",\"S\",1],[\"female\",\"C\",1],[\"female\",\"S\",1],[\"female\",\"S\",0],[\"male\",\"S\",0],[\"female\",\"S\",1],[\"male\",\"S\",0],[\"female\",\"S\",0],[\"female\",\"S\",1],[\"male\",\"S\",0],[\"male\",\"C\",0],[\"male\",\"S\",1],[\"male\",\"C\",1],[\"male\",\"S\",0],[\"male\",\"S\",0],[\"male\",\"S\",0],[\"male\",\"Q\",0],[\"female\",\"S\",1],[\"male\",\"S\",0],[\"male\",\"S\",1],[\"male\",\"S\",0],[\"male\",\"C\",1],[\"female\",\"S\",0],[\"female\",\"S\",1],[\"male\",\"S\",0],[\"male\",\"S\",0],[\"female\",\"S\",0],[\"male\",\"S\",0],[\"female\",\"C\",1],[\"female\",\"S\",0],[\"female\",\"C\",1],[\"male\",\"C\",1],[\"male\",\"S\",0],[\"male\",\"C\",1],[\"female\",\"S\",1],[\"female\",\"S\",1],[\"male\",\"S\",0],[\"female\",\"Q\",0],[\"male\",\"S\",0],[\"female\",\"Q\",0],[\"male\",\"S\",0],[\"male\",\"C\",0],[\"male\",\"S\",1],[\"male\",\"C\",0],[\"male\",\"S\",0],[\"male\",\"S\",0],[\"male\",\"S\",1],[\"male\",\"S\",0],[\"male\",\"S\",0],[\"male\",\"S\",0],[\"female\",\"S\",1],[\"male\",\"S\",0],[\"male\",\"S\",0],[\"male\",\"S\",1],[\"male\",\"S\",0],[\"male\",\"S\",0],[\"female\",\"S\",1],[\"female\",\"S\",0],[\"male\",\"C\",1],[\"male\",\"C\",1],[\"male\",\"S\",0],[\"male\",\"S\",0],[\"male\",\"S\",0],[\"male\",\"C\",0],[\"male\",\"S\",0],[\"male\",\"S\",0],[\"male\",\"S\",0],[\"female\",\"S\",1],[\"male\",\"S\",1],[\"female\",\"C\",1],[\"male\",\"C\",0],[\"male\",\"S\",0],[\"male\",\"S\",0],[\"male\",\"S\",0],[\"male\",\"C\",0],[\"male\",\"S\",0],[\"female\",\"C\",1],[\"male\",\"S\",1],[\"female\",\"C\",0],[\"male\",\"Q\",0],[\"male\",\"S\",0],[\"male\",\"S\",0],[\"female\",\"S\",1],[\"male\",\"S\",1],[\"female\",\"S\",1],[\"female\",\"C\",1],[\"male\",\"S\",1],[\"male\",\"S\",0],[\"male\",\"S\",0],[\"male\",\"S\",0],[\"female\",\"C\",1],[\"female\",\"S\",1],[\"male\",\"S\",0],[\"female\",\"S\",1],[\"male\",\"S\",0],[\"male\",\"S\",0],[\"male\",\"S\",0],[\"male\",\"S\",1],[\"male\",\"S\",0],[\"female\",\"S\",1],[\"male\",\"S\",0],[\"female\",\"S\",0],[\"female\",\"S\",1],[\"male\",\"C\",0],[\"male\",\"S\",0],[\"male\",\"S\",0],[\"male\",\"S\",0],[\"female\",\"S\",0],[\"male\",\"C\",1],[\"male\",\"S\",0],[\"female\",\"C\",1],[\"male\",\"S\",0],[\"male\",\"S\",1],[\"male\",\"S\",0],[\"male\",\"S\",0],[\"female\",\"S\",1],[\"male\",\"S\",0],[\"male\",\"Q\",0],[\"female\",\"S\",1],[\"male\",\"S\",1],[\"male\",\"S\",0],[\"male\",\"S\",0],[\"female\",\"S\",1],[\"male\",\"S\",1],[\"male\",\"S\",0],[\"male\",\"S\",0],[\"male\",\"S\",0],[\"female\",\"S\",1],[\"male\",\"S\",0],[\"male\",\"C\",1],[\"female\",\"S\",1],[\"male\",\"S\",0],[\"female\",\"S\",1],[\"female\",\"Q\",0],[\"male\",\"S\",0],[\"male\",\"S\",0],[\"male\",\"S\",0],[\"female\",\"S\",0],[\"female\",\"S\",1],[\"male\",\"S\",0],[\"female\",\"S\",1],[\"female\",\"S\",1],[\"female\",\"C\",1],[\"female\",\"S\",1],[\"male\",\"S\",0],[\"male\",\"S\",0],[\"male\",\"S\",0],[\"female\",\"S\",1],[\"male\",\"Q\",0],[\"male\",\"S\",1],[\"male\",\"C\",0],[\"male\",\"S\",0],[\"male\",\"S\",0],[\"male\",\"S\",0],[\"female\",\"S\",1],[\"female\",\"S\",1],[\"male\",\"C\",0],[\"female\",\"S\",0],[\"male\",\"S\",0],[\"female\",\"S\",1],[\"male\",\"S\",1],[\"male\",\"C\",1],[\"male\",\"S\",1],[\"male\",\"S\",0],[\"male\",\"S\",0],[\"female\",\"S\",0],[\"male\",\"S\",0],[\"female\",\"S\",1],[\"male\",\"S\",0],[\"male\",\"S\",0],[\"male\",\"S\",0],[\"female\",\"S\",0],[\"male\",\"S\",0],[\"female\",\"S\",0],[\"male\",\"C\",0],[\"male\",\"S\",0],[\"male\",\"S\",0],[\"female\",\"S\",1],[\"male\",\"S\",1],[\"male\",\"S\",0],[\"female\",\"S\",1],[\"male\",\"S\",0],[\"male\",\"C\",1],[\"female\",null,1],[\"female\",\"C\",1],[\"male\",\"S\",1],[\"male\",\"S\",0],[\"male\",\"S\",0],[\"female\",\"C\",1],[\"male\",\"S\",0],[\"male\",\"S\",1],[\"male\",\"S\",0],[\"male\",\"S\",0],[\"female\",\"C\",1],[\"male\",\"C\",0],[\"male\",\"S\",0],[\"male\",\"S\",0],[\"male\",\"C\",0],[\"male\",\"S\",0],[\"male\",\"S\",0],[\"male\",\"S\",0],[\"female\",\"C\",0],[\"female\",\"S\",1],[\"female\",\"S\",0],[\"female\",\"S\",1],[\"female\",\"S\",1],[\"male\",\"S\",1],[\"female\",\"C\",1],[\"male\",\"S\",0],[\"male\",\"S\",0],[\"female\",\"S\",1],[\"male\",\"S\",0],[\"female\",\"S\",1],[\"female\",\"C\",1],[\"male\",\"S\",0],[\"male\",\"S\",1],[\"male\",\"S\",0],[\"female\",\"S\",1],[\"male\",\"S\",0],[\"male\",\"S\",0],[\"female\",\"C\",1],[\"female\",\"C\",1],[\"male\",\"S\",0],[\"male\",\"S\",0],[\"female\",\"C\",1],[\"female\",\"S\",1],[\"male\",\"S\",0],[\"female\",\"S\",0],[\"male\",\"S\",0],[\"male\",\"S\",0],[\"female\",\"Q\",0],[\"male\",\"S\",0],[\"female\",\"S\",1],[\"male\",\"C\",1],[\"male\",\"Q\",0]],\"hovertemplate\":\"age=%{x}<br>fare paid=%{y}<br>sex=%{customdata[0]}<br>embarked=%{customdata[1]}<br>survived=%{customdata[2]}<br>Passenger Class=%{marker.color}<extra></extra>\",\"legendgroup\":\"\",\"marker\":{\"color\":[3,1,3,1,3,1,3,3,2,3,1,3,3,3,2,3,3,2,2,3,1,3,3,1,1,2,1,1,3,3,3,3,2,2,3,3,3,3,1,2,1,2,3,2,3,3,1,1,3,2,3,3,3,2,3,2,3,3,3,2,3,3,3,1,2,3,3,1,3,3,3,1,3,3,1,1,2,2,3,1,3,3,3,3,3,1,3,3,3,3,3,3,2,1,3,2,2,2,1,3,3,3,3,3,3,2,2,2,1,1,3,1,3,3,3,2,2,3,3,2,2,2,1,3,3,1,3,3,3,2,3,3,3,3,3,3,1,3,3,3,1,3,1,2,3,3,2,3,1,3,3,2,2,3,2,1,1,3,2,3,3,3,3,3,3,3,3,1,3,2,3,2,1,3,2,1,2,3,2,3,1,3,2,3,2,1,3,2,3,2,2,2,2,2,2,3,3,1,3,2,1,2,3,1,3,3,3,1,1,2,3,1,1,2,3,3,1,1,3,2,1,1,3,3,3,3,3,3,3,3,3,3,2,3,1,1,2,3,3,3,1,1,3,1,1,2,1,1,1,2,3,2,3,2,2,1,1,3,3,2,2,1,3,2,3,1,1,1,3,1,1,3,1,2,1,2,2,2,2,2,3,3,3,3,3,3,1,2,3,2,3,3,3,1,1,1,3,3,1,3,3,1,3,3,1,3,3,1,2,3,2,2,1,3,3,1,3,3,3,2,2,2,3,3,3,3,3,2,3,2,3,1,3,2,2,2,3,3,3,3,3,2,2,3,1,2,3,1,1,3,2,1,2,2,3,3,2,1,2,1,3,1,2,1,1,3,1,2,1,3,1,2,3,1,3,3,2,2,3,2,3,3,3,3,3,3,1,1,1,3,3,3,1,1,3,1,1,3,3,3,3,1,1,2,3,3,3,1,1,3,1,2,2,3,1,3,1,3,2,3,2,2,3,3,2,1,1,1,1,3,3,2,1,1,2,3,2,1,2,3,3,1,1,1,3,3,2,3,3,3,3,2,1,1,3,3,2,1,3,2,1,2,1,1,2,1,3,3,1,3,2,3,3,1,2,3,1,3,3,1,2,1,3,3,2,3,3,2,2,3,1,3,3,3,1,2,1,3,1,3,1,3,2,3,2,3,3,1,3,3,1,3,1,3,2,3,3,2,3,2,1,1,3,1,3,3,2,2,3,2,1,2,2,3,3,3,3,1,1,3,3,2,2,3,3,3,1,1,3,3,1,2,3,1,3,1,1,3,3,3,2,2,1,1,1,1,3,2,3,1,2,3,2,3,2,2,1,3,2,2,3,1,3,2,2,3,3,1,1,1,3,3,1,3,2,1,3,2,3,3,3,2,2,3,2,3,1,3,3,1,3,1,3,3,3,3,2,2,3,3,1,3,1,1,3,3,3,3,3,1,2,3,2,1,3,3,3,2,2,1,3,3,3,1,3,2,1,3,3,2,3,3,3,2,3,3,1,3,1,3,3,2,1,3,2,3,3,1,3,3,3,2,1,3,3,3,3,2,3,3,3,1,2,3,1,1,3,3,2,1,2,2,2,1,3,3,1,1,3,2,3,3,3,1,2,3,3,2,3,3,2,1,1,3],\"coloraxis\":\"coloraxis\",\"symbol\":\"circle\"},\"mode\":\"markers\",\"name\":\"\",\"orientation\":\"v\",\"showlegend\":false,\"x\":[22.0,38.0,26.0,35.0,35.0,54.0,2.0,27.0,14.0,4.0,58.0,20.0,39.0,14.0,55.0,2.0,31.0,35.0,34.0,15.0,28.0,8.0,38.0,19.0,40.0,66.0,28.0,42.0,21.0,18.0,14.0,40.0,27.0,3.0,19.0,18.0,7.0,21.0,49.0,29.0,65.0,21.0,28.5,5.0,11.0,22.0,38.0,45.0,4.0,29.0,19.0,17.0,26.0,32.0,16.0,21.0,26.0,32.0,25.0,0.83,30.0,22.0,29.0,28.0,17.0,33.0,16.0,23.0,24.0,29.0,20.0,46.0,26.0,59.0,71.0,23.0,34.0,34.0,28.0,21.0,33.0,37.0,28.0,21.0,38.0,47.0,14.5,22.0,20.0,17.0,21.0,70.5,29.0,24.0,2.0,21.0,32.5,32.5,54.0,12.0,24.0,45.0,33.0,20.0,47.0,29.0,25.0,23.0,19.0,37.0,16.0,24.0,22.0,24.0,19.0,18.0,19.0,27.0,9.0,36.5,42.0,51.0,22.0,55.5,40.5,51.0,16.0,30.0,44.0,40.0,26.0,17.0,1.0,9.0,45.0,28.0,61.0,4.0,1.0,21.0,56.0,18.0,50.0,30.0,36.0,9.0,1.0,4.0,45.0,40.0,36.0,32.0,19.0,19.0,3.0,44.0,58.0,42.0,24.0,28.0,34.0,45.5,18.0,2.0,32.0,26.0,16.0,40.0,24.0,35.0,22.0,30.0,31.0,27.0,42.0,32.0,30.0,16.0,27.0,51.0,38.0,22.0,19.0,20.5,18.0,35.0,29.0,59.0,5.0,24.0,44.0,8.0,19.0,33.0,29.0,22.0,30.0,44.0,25.0,24.0,37.0,54.0,29.0,62.0,30.0,41.0,29.0,30.0,35.0,50.0,3.0,52.0,40.0,36.0,16.0,25.0,58.0,35.0,25.0,41.0,37.0,63.0,45.0,7.0,35.0,65.0,28.0,16.0,19.0,33.0,30.0,22.0,42.0,22.0,26.0,19.0,36.0,24.0,24.0,23.5,2.0,50.0,19.0,0.92,17.0,30.0,30.0,24.0,18.0,26.0,28.0,43.0,26.0,24.0,54.0,31.0,40.0,22.0,27.0,30.0,22.0,36.0,61.0,36.0,31.0,16.0,45.5,38.0,16.0,29.0,41.0,45.0,45.0,2.0,24.0,28.0,25.0,36.0,24.0,40.0,3.0,42.0,23.0,15.0,25.0,28.0,22.0,38.0,40.0,29.0,45.0,35.0,30.0,60.0,24.0,25.0,18.0,19.0,22.0,3.0,22.0,27.0,20.0,19.0,42.0,1.0,32.0,35.0,18.0,1.0,36.0,17.0,36.0,21.0,28.0,23.0,24.0,22.0,31.0,46.0,23.0,28.0,39.0,26.0,21.0,28.0,20.0,34.0,51.0,3.0,21.0,33.0,44.0,34.0,18.0,30.0,10.0,21.0,29.0,28.0,18.0,28.0,19.0,32.0,28.0,42.0,17.0,50.0,14.0,21.0,24.0,64.0,31.0,45.0,20.0,25.0,28.0,4.0,13.0,34.0,5.0,52.0,36.0,30.0,49.0,29.0,65.0,50.0,48.0,34.0,47.0,48.0,38.0,56.0,0.75,38.0,33.0,23.0,22.0,34.0,29.0,22.0,2.0,9.0,50.0,63.0,25.0,35.0,58.0,30.0,9.0,21.0,55.0,71.0,21.0,54.0,25.0,24.0,17.0,21.0,37.0,16.0,18.0,33.0,28.0,26.0,29.0,36.0,54.0,24.0,47.0,34.0,36.0,32.0,30.0,22.0,44.0,40.5,50.0,39.0,23.0,2.0,17.0,30.0,7.0,45.0,30.0,22.0,36.0,9.0,11.0,32.0,50.0,64.0,19.0,33.0,8.0,17.0,27.0,22.0,22.0,62.0,48.0,39.0,36.0,40.0,28.0,24.0,19.0,29.0,32.0,62.0,53.0,36.0,16.0,19.0,34.0,39.0,32.0,25.0,39.0,54.0,36.0,18.0,47.0,60.0,22.0,35.0,52.0,47.0,37.0,36.0,49.0,49.0,24.0,44.0,35.0,36.0,30.0,27.0,22.0,40.0,39.0,35.0,24.0,34.0,26.0,4.0,26.0,27.0,42.0,20.0,21.0,21.0,61.0,57.0,21.0,26.0,80.0,51.0,32.0,9.0,28.0,32.0,31.0,41.0,20.0,24.0,2.0,0.75,48.0,19.0,56.0,23.0,18.0,21.0,18.0,24.0,32.0,23.0,58.0,50.0,40.0,47.0,36.0,20.0,32.0,25.0,43.0,40.0,31.0,70.0,31.0,18.0,24.5,18.0,43.0,36.0,27.0,20.0,14.0,60.0,25.0,14.0,19.0,18.0,15.0,31.0,4.0,25.0,60.0,52.0,44.0,49.0,42.0,18.0,35.0,18.0,25.0,26.0,39.0,45.0,42.0,22.0,24.0,48.0,29.0,52.0,19.0,38.0,27.0,33.0,6.0,17.0,34.0,50.0,27.0,20.0,30.0,25.0,25.0,29.0,11.0,23.0,23.0,28.5,48.0,35.0,36.0,21.0,24.0,31.0,70.0,16.0,30.0,19.0,31.0,4.0,6.0,33.0,23.0,48.0,0.67,28.0,18.0,34.0,33.0,41.0,20.0,36.0,16.0,51.0,30.5,32.0,24.0,48.0,57.0,54.0,18.0,5.0,43.0,13.0,17.0,29.0,25.0,25.0,18.0,8.0,1.0,46.0,16.0,25.0,39.0,49.0,31.0,30.0,30.0,34.0,31.0,11.0,0.42,27.0,31.0,39.0,18.0,39.0,33.0,26.0,39.0,35.0,6.0,30.5,23.0,31.0,43.0,10.0,52.0,27.0,38.0,27.0,2.0,1.0,62.0,15.0,0.83,23.0,18.0,39.0,21.0,32.0,20.0,16.0,30.0,34.5,17.0,42.0,35.0,28.0,4.0,74.0,9.0,16.0,44.0,18.0,45.0,51.0,24.0,41.0,21.0,48.0,24.0,42.0,27.0,31.0,4.0,26.0,47.0,33.0,47.0,28.0,15.0,20.0,19.0,56.0,25.0,33.0,22.0,28.0,25.0,39.0,27.0,19.0,26.0,32.0],\"xaxis\":\"x\",\"y\":[7.25,71.2833,7.925,53.1,8.05,51.8625,21.075,11.1333,30.0708,16.7,26.55,8.05,31.275,7.8542,16.0,29.125,18.0,26.0,13.0,8.0292,35.5,21.075,31.3875,263.0,27.7208,10.5,82.1708,52.0,8.05,18.0,11.2417,9.475,21.0,41.5792,7.8792,17.8,39.6875,7.8,76.7292,26.0,61.9792,10.5,7.2292,27.75,46.9,7.2292,80.0,83.475,27.9,10.5,8.1583,7.925,8.6625,10.5,46.9,73.5,14.4542,56.4958,7.65,29.0,12.475,9.0,9.5,47.1,10.5,15.85,34.375,263.0,8.05,8.05,7.8542,61.175,20.575,7.25,34.6542,63.3583,23.0,26.0,7.8958,77.2875,8.6542,7.925,7.8958,7.65,7.8958,52.0,14.4542,8.05,9.825,14.4583,7.925,7.75,21.0,247.5208,31.275,73.5,30.0708,13.0,77.2875,11.2417,7.1417,6.975,7.8958,7.05,14.5,26.0,13.0,15.0458,26.2833,53.1,9.2167,79.2,7.75,15.85,6.75,11.5,36.75,7.7958,34.375,26.0,13.0,12.525,66.6,8.05,14.5,61.3792,7.7333,8.05,16.1,15.75,7.775,8.6625,39.6875,20.525,27.9,56.4958,33.5,29.125,11.1333,7.925,30.6958,7.8542,28.7125,13.0,0.0,31.3875,39.0,22.025,26.55,15.5,7.8958,13.0,13.0,7.8542,26.0,27.7208,146.5208,8.4042,13.0,9.5,6.4958,7.225,8.05,10.4625,15.85,18.7875,7.75,31.0,7.05,21.0,7.25,13.0,113.275,7.925,27.0,76.2917,10.5,8.05,13.0,8.05,90.0,9.35,10.5,7.25,13.0,83.475,7.775,13.5,31.3875,10.5,26.0,26.25,10.5,12.275,10.5,7.125,7.225,90.0,7.775,14.5,52.5542,26.0,10.4625,26.55,16.1,20.2125,15.2458,86.5,512.3292,26.0,31.3875,79.65,0.0,10.5,39.6875,7.775,153.4625,135.6333,0.0,19.5,29.7,77.9583,7.75,29.125,20.25,7.75,7.8542,9.5,8.05,8.6625,9.5,7.8958,13.0,7.75,78.85,91.0792,12.875,8.85,7.8958,7.2292,151.55,247.5208,0.0,151.55,108.9,24.0,56.9292,83.1583,262.375,26.0,7.8958,26.25,7.8542,26.0,14.0,164.8667,134.5,7.25,7.8958,12.35,29.0,135.6333,6.2375,13.0,20.525,57.9792,28.5,153.4625,18.0,66.6,134.5,8.05,35.5,26.0,263.0,13.0,13.0,13.0,13.0,13.0,15.9,8.6625,9.225,7.2292,17.8,9.5,55.0,13.0,27.9,27.7208,14.4542,7.05,7.25,75.25,69.3,55.4417,6.4958,8.05,135.6333,21.075,7.25,211.5,4.0125,7.775,227.525,15.7417,7.925,52.0,73.5,46.9,13.0,12.0,120.0,7.7958,7.925,113.275,16.7,7.7958,7.8542,26.0,10.5,12.65,7.925,8.05,9.825,15.85,8.6625,21.0,7.75,18.75,7.775,90.0,7.925,32.5,13.0,13.0,24.15,7.7333,7.875,14.4,20.2125,26.0,26.0,8.05,26.55,26.0,7.125,55.9,120.0,34.375,18.75,263.0,10.5,26.25,9.5,7.775,13.0,81.8583,19.5,26.55,19.2583,30.5,27.75,27.75,89.1042,7.8958,26.55,10.5,26.55,8.05,38.5,13.0,7.05,26.55,19.2583,8.6625,27.75,13.7917,9.8375,21.0,7.0458,7.5208,12.2875,46.9,8.05,9.5875,91.0792,90.0,29.7,8.05,15.9,7.25,30.5,49.5042,8.05,78.2667,151.55,7.7958,8.6625,7.75,9.5875,86.5,108.9,26.0,22.525,56.4958,7.75,26.2875,59.4,7.4958,34.0208,10.5,26.0,7.8958,93.5,7.8958,57.9792,7.75,10.5,7.925,11.5,26.0,7.2292,8.6625,26.25,26.55,106.425,49.5,71.0,31.275,31.275,26.0,106.425,26.0,26.0,20.525,36.75,110.8833,26.0,7.225,7.775,26.55,39.6,79.65,17.4,7.8958,13.5,24.15,7.8958,21.075,7.8542,10.5,51.4792,26.3875,8.05,14.5,13.0,55.9,7.925,30.0,110.8833,26.0,40.125,79.65,15.0,79.2,8.05,7.125,78.2667,7.25,26.0,24.15,0.0,56.9292,27.0,8.05,26.55,15.55,7.8958,30.5,41.5792,153.4625,31.275,8.05,65.0,14.4,16.1,39.0,10.5,14.4542,52.5542,15.7417,7.8542,16.1,32.3208,12.35,77.9583,7.8958,30.0,7.0542,30.5,27.9,13.0,7.925,26.25,39.6875,7.8542,69.3,27.9,19.2583,76.7292,7.8958,35.5,7.55,23.0,8.4333,6.75,73.5,15.5,13.0,113.275,133.65,7.225,25.5875,7.4958,7.925,73.5,13.0,8.05,39.0,52.0,10.5,13.0,7.775,8.05,9.8417,46.9,512.3292,76.7292,9.225,46.9,39.0,41.5792,39.6875,10.1708,7.7958,211.3375,57.0,13.4167,7.225,26.55,13.5,8.05,110.8833,7.65,227.525,26.2875,14.4542,7.7417,7.8542,26.0,13.5,26.2875,151.55,49.5042,52.0,9.4833,13.0,7.65,227.525,10.5,7.775,33.0,7.0542,13.0,13.0,53.1,8.6625,21.0,26.0,7.925,211.3375,18.7875,13.0,13.0,16.1,34.375,512.3292,78.85,262.375,16.1,7.925,71.0,20.25,13.0,53.1,7.75,23.0,12.475,9.5,7.8958,65.0,14.5,7.7958,11.5,8.05,86.5,7.125,7.2292,120.0,7.775,77.9583,7.75,8.3625,9.5,7.8542,10.5,23.0,7.75,12.475,211.3375,7.2292,57.0,30.0,7.05,7.25,7.4958,29.125,20.575,79.2,26.0,7.8958,13.0,25.9292,8.6833,7.2292,24.15,13.0,26.25,120.0,8.5167,6.975,7.775,0.0,7.775,13.0,53.1,7.8875,24.15,10.5,31.275,8.05,7.925,37.0042,6.45,27.9,93.5,8.6625,0.0,12.475,39.6875,37.0042,80.0,14.4542,18.75,7.8542,8.3,83.1583,8.6625,56.4958,7.925,10.5,31.0,6.4375,8.6625,7.55,7.8958,33.0,31.275,7.775,15.2458,39.4,26.0,9.35,164.8667,26.55,19.2583,14.1083,11.5,25.9292,13.0,13.0,13.8583,50.4958,11.1333,7.8958,52.5542,5.0,9.0,24.0,7.225,9.8458,7.8958,83.1583,26.0,7.8958,10.5167,10.5,7.05,29.125,13.0,30.0,30.0,7.75],\"yaxis\":\"y\",\"type\":\"scatter\"}],                        {\"template\":{\"data\":{\"histogram2dcontour\":[{\"type\":\"histogram2dcontour\",\"colorbar\":{\"outlinewidth\":0,\"ticks\":\"\"},\"colorscale\":[[0.0,\"#0d0887\"],[0.1111111111111111,\"#46039f\"],[0.2222222222222222,\"#7201a8\"],[0.3333333333333333,\"#9c179e\"],[0.4444444444444444,\"#bd3786\"],[0.5555555555555556,\"#d8576b\"],[0.6666666666666666,\"#ed7953\"],[0.7777777777777778,\"#fb9f3a\"],[0.8888888888888888,\"#fdca26\"],[1.0,\"#f0f921\"]]}],\"choropleth\":[{\"type\":\"choropleth\",\"colorbar\":{\"outlinewidth\":0,\"ticks\":\"\"}}],\"histogram2d\":[{\"type\":\"histogram2d\",\"colorbar\":{\"outlinewidth\":0,\"ticks\":\"\"},\"colorscale\":[[0.0,\"#0d0887\"],[0.1111111111111111,\"#46039f\"],[0.2222222222222222,\"#7201a8\"],[0.3333333333333333,\"#9c179e\"],[0.4444444444444444,\"#bd3786\"],[0.5555555555555556,\"#d8576b\"],[0.6666666666666666,\"#ed7953\"],[0.7777777777777778,\"#fb9f3a\"],[0.8888888888888888,\"#fdca26\"],[1.0,\"#f0f921\"]]}],\"heatmap\":[{\"type\":\"heatmap\",\"colorbar\":{\"outlinewidth\":0,\"ticks\":\"\"},\"colorscale\":[[0.0,\"#0d0887\"],[0.1111111111111111,\"#46039f\"],[0.2222222222222222,\"#7201a8\"],[0.3333333333333333,\"#9c179e\"],[0.4444444444444444,\"#bd3786\"],[0.5555555555555556,\"#d8576b\"],[0.6666666666666666,\"#ed7953\"],[0.7777777777777778,\"#fb9f3a\"],[0.8888888888888888,\"#fdca26\"],[1.0,\"#f0f921\"]]}],\"heatmapgl\":[{\"type\":\"heatmapgl\",\"colorbar\":{\"outlinewidth\":0,\"ticks\":\"\"},\"colorscale\":[[0.0,\"#0d0887\"],[0.1111111111111111,\"#46039f\"],[0.2222222222222222,\"#7201a8\"],[0.3333333333333333,\"#9c179e\"],[0.4444444444444444,\"#bd3786\"],[0.5555555555555556,\"#d8576b\"],[0.6666666666666666,\"#ed7953\"],[0.7777777777777778,\"#fb9f3a\"],[0.8888888888888888,\"#fdca26\"],[1.0,\"#f0f921\"]]}],\"contourcarpet\":[{\"type\":\"contourcarpet\",\"colorbar\":{\"outlinewidth\":0,\"ticks\":\"\"}}],\"contour\":[{\"type\":\"contour\",\"colorbar\":{\"outlinewidth\":0,\"ticks\":\"\"},\"colorscale\":[[0.0,\"#0d0887\"],[0.1111111111111111,\"#46039f\"],[0.2222222222222222,\"#7201a8\"],[0.3333333333333333,\"#9c179e\"],[0.4444444444444444,\"#bd3786\"],[0.5555555555555556,\"#d8576b\"],[0.6666666666666666,\"#ed7953\"],[0.7777777777777778,\"#fb9f3a\"],[0.8888888888888888,\"#fdca26\"],[1.0,\"#f0f921\"]]}],\"surface\":[{\"type\":\"surface\",\"colorbar\":{\"outlinewidth\":0,\"ticks\":\"\"},\"colorscale\":[[0.0,\"#0d0887\"],[0.1111111111111111,\"#46039f\"],[0.2222222222222222,\"#7201a8\"],[0.3333333333333333,\"#9c179e\"],[0.4444444444444444,\"#bd3786\"],[0.5555555555555556,\"#d8576b\"],[0.6666666666666666,\"#ed7953\"],[0.7777777777777778,\"#fb9f3a\"],[0.8888888888888888,\"#fdca26\"],[1.0,\"#f0f921\"]]}],\"mesh3d\":[{\"type\":\"mesh3d\",\"colorbar\":{\"outlinewidth\":0,\"ticks\":\"\"}}],\"scatter\":[{\"fillpattern\":{\"fillmode\":\"overlay\",\"size\":10,\"solidity\":0.2},\"type\":\"scatter\"}],\"parcoords\":[{\"type\":\"parcoords\",\"line\":{\"colorbar\":{\"outlinewidth\":0,\"ticks\":\"\"}}}],\"scatterpolargl\":[{\"type\":\"scatterpolargl\",\"marker\":{\"colorbar\":{\"outlinewidth\":0,\"ticks\":\"\"}}}],\"bar\":[{\"error_x\":{\"color\":\"#2a3f5f\"},\"error_y\":{\"color\":\"#2a3f5f\"},\"marker\":{\"line\":{\"color\":\"#E5ECF6\",\"width\":0.5},\"pattern\":{\"fillmode\":\"overlay\",\"size\":10,\"solidity\":0.2}},\"type\":\"bar\"}],\"scattergeo\":[{\"type\":\"scattergeo\",\"marker\":{\"colorbar\":{\"outlinewidth\":0,\"ticks\":\"\"}}}],\"scatterpolar\":[{\"type\":\"scatterpolar\",\"marker\":{\"colorbar\":{\"outlinewidth\":0,\"ticks\":\"\"}}}],\"histogram\":[{\"marker\":{\"pattern\":{\"fillmode\":\"overlay\",\"size\":10,\"solidity\":0.2}},\"type\":\"histogram\"}],\"scattergl\":[{\"type\":\"scattergl\",\"marker\":{\"colorbar\":{\"outlinewidth\":0,\"ticks\":\"\"}}}],\"scatter3d\":[{\"type\":\"scatter3d\",\"line\":{\"colorbar\":{\"outlinewidth\":0,\"ticks\":\"\"}},\"marker\":{\"colorbar\":{\"outlinewidth\":0,\"ticks\":\"\"}}}],\"scattermapbox\":[{\"type\":\"scattermapbox\",\"marker\":{\"colorbar\":{\"outlinewidth\":0,\"ticks\":\"\"}}}],\"scatterternary\":[{\"type\":\"scatterternary\",\"marker\":{\"colorbar\":{\"outlinewidth\":0,\"ticks\":\"\"}}}],\"scattercarpet\":[{\"type\":\"scattercarpet\",\"marker\":{\"colorbar\":{\"outlinewidth\":0,\"ticks\":\"\"}}}],\"carpet\":[{\"aaxis\":{\"endlinecolor\":\"#2a3f5f\",\"gridcolor\":\"white\",\"linecolor\":\"white\",\"minorgridcolor\":\"white\",\"startlinecolor\":\"#2a3f5f\"},\"baxis\":{\"endlinecolor\":\"#2a3f5f\",\"gridcolor\":\"white\",\"linecolor\":\"white\",\"minorgridcolor\":\"white\",\"startlinecolor\":\"#2a3f5f\"},\"type\":\"carpet\"}],\"table\":[{\"cells\":{\"fill\":{\"color\":\"#EBF0F8\"},\"line\":{\"color\":\"white\"}},\"header\":{\"fill\":{\"color\":\"#C8D4E3\"},\"line\":{\"color\":\"white\"}},\"type\":\"table\"}],\"barpolar\":[{\"marker\":{\"line\":{\"color\":\"#E5ECF6\",\"width\":0.5},\"pattern\":{\"fillmode\":\"overlay\",\"size\":10,\"solidity\":0.2}},\"type\":\"barpolar\"}],\"pie\":[{\"automargin\":true,\"type\":\"pie\"}]},\"layout\":{\"autotypenumbers\":\"strict\",\"colorway\":[\"#636efa\",\"#EF553B\",\"#00cc96\",\"#ab63fa\",\"#FFA15A\",\"#19d3f3\",\"#FF6692\",\"#B6E880\",\"#FF97FF\",\"#FECB52\"],\"font\":{\"color\":\"#2a3f5f\"},\"hovermode\":\"closest\",\"hoverlabel\":{\"align\":\"left\"},\"paper_bgcolor\":\"white\",\"plot_bgcolor\":\"#E5ECF6\",\"polar\":{\"bgcolor\":\"#E5ECF6\",\"angularaxis\":{\"gridcolor\":\"white\",\"linecolor\":\"white\",\"ticks\":\"\"},\"radialaxis\":{\"gridcolor\":\"white\",\"linecolor\":\"white\",\"ticks\":\"\"}},\"ternary\":{\"bgcolor\":\"#E5ECF6\",\"aaxis\":{\"gridcolor\":\"white\",\"linecolor\":\"white\",\"ticks\":\"\"},\"baxis\":{\"gridcolor\":\"white\",\"linecolor\":\"white\",\"ticks\":\"\"},\"caxis\":{\"gridcolor\":\"white\",\"linecolor\":\"white\",\"ticks\":\"\"}},\"coloraxis\":{\"colorbar\":{\"outlinewidth\":0,\"ticks\":\"\"}},\"colorscale\":{\"sequential\":[[0.0,\"#0d0887\"],[0.1111111111111111,\"#46039f\"],[0.2222222222222222,\"#7201a8\"],[0.3333333333333333,\"#9c179e\"],[0.4444444444444444,\"#bd3786\"],[0.5555555555555556,\"#d8576b\"],[0.6666666666666666,\"#ed7953\"],[0.7777777777777778,\"#fb9f3a\"],[0.8888888888888888,\"#fdca26\"],[1.0,\"#f0f921\"]],\"sequentialminus\":[[0.0,\"#0d0887\"],[0.1111111111111111,\"#46039f\"],[0.2222222222222222,\"#7201a8\"],[0.3333333333333333,\"#9c179e\"],[0.4444444444444444,\"#bd3786\"],[0.5555555555555556,\"#d8576b\"],[0.6666666666666666,\"#ed7953\"],[0.7777777777777778,\"#fb9f3a\"],[0.8888888888888888,\"#fdca26\"],[1.0,\"#f0f921\"]],\"diverging\":[[0,\"#8e0152\"],[0.1,\"#c51b7d\"],[0.2,\"#de77ae\"],[0.3,\"#f1b6da\"],[0.4,\"#fde0ef\"],[0.5,\"#f7f7f7\"],[0.6,\"#e6f5d0\"],[0.7,\"#b8e186\"],[0.8,\"#7fbc41\"],[0.9,\"#4d9221\"],[1,\"#276419\"]]},\"xaxis\":{\"gridcolor\":\"white\",\"linecolor\":\"white\",\"ticks\":\"\",\"title\":{\"standoff\":15},\"zerolinecolor\":\"white\",\"automargin\":true,\"zerolinewidth\":2},\"yaxis\":{\"gridcolor\":\"white\",\"linecolor\":\"white\",\"ticks\":\"\",\"title\":{\"standoff\":15},\"zerolinecolor\":\"white\",\"automargin\":true,\"zerolinewidth\":2},\"scene\":{\"xaxis\":{\"backgroundcolor\":\"#E5ECF6\",\"gridcolor\":\"white\",\"linecolor\":\"white\",\"showbackground\":true,\"ticks\":\"\",\"zerolinecolor\":\"white\",\"gridwidth\":2},\"yaxis\":{\"backgroundcolor\":\"#E5ECF6\",\"gridcolor\":\"white\",\"linecolor\":\"white\",\"showbackground\":true,\"ticks\":\"\",\"zerolinecolor\":\"white\",\"gridwidth\":2},\"zaxis\":{\"backgroundcolor\":\"#E5ECF6\",\"gridcolor\":\"white\",\"linecolor\":\"white\",\"showbackground\":true,\"ticks\":\"\",\"zerolinecolor\":\"white\",\"gridwidth\":2}},\"shapedefaults\":{\"line\":{\"color\":\"#2a3f5f\"}},\"annotationdefaults\":{\"arrowcolor\":\"#2a3f5f\",\"arrowhead\":0,\"arrowwidth\":1},\"geo\":{\"bgcolor\":\"white\",\"landcolor\":\"#E5ECF6\",\"subunitcolor\":\"white\",\"showland\":true,\"showlakes\":true,\"lakecolor\":\"white\"},\"title\":{\"x\":0.05},\"mapbox\":{\"style\":\"light\"}}},\"xaxis\":{\"anchor\":\"y\",\"domain\":[0.0,1.0],\"title\":{\"text\":\"age\"}},\"yaxis\":{\"anchor\":\"x\",\"domain\":[0.0,1.0],\"title\":{\"text\":\"fare paid\"}},\"coloraxis\":{\"colorbar\":{\"title\":{\"text\":\"Passenger Class\"}},\"colorscale\":[[0.0,\"#0d0887\"],[0.1111111111111111,\"#46039f\"],[0.2222222222222222,\"#7201a8\"],[0.3333333333333333,\"#9c179e\"],[0.4444444444444444,\"#bd3786\"],[0.5555555555555556,\"#d8576b\"],[0.6666666666666666,\"#ed7953\"],[0.7777777777777778,\"#fb9f3a\"],[0.8888888888888888,\"#fdca26\"],[1.0,\"#f0f921\"]]},\"legend\":{\"tracegroupgap\":0},\"title\":{\"text\":\"Relationship between Age and Fare Paid by Titanic Passengers\"}},                        {\"responsive\": true}                    ).then(function(){\n",
       "                            \n",
       "var gd = document.getElementById('da3a70d2-8f9f-4d40-937c-f3e31609fcb8');\n",
       "var x = new MutationObserver(function (mutations, observer) {{\n",
       "        var display = window.getComputedStyle(gd).display;\n",
       "        if (!display || display === 'none') {{\n",
       "            console.log([gd, 'removed!']);\n",
       "            Plotly.purge(gd);\n",
       "            observer.disconnect();\n",
       "        }}\n",
       "}});\n",
       "\n",
       "// Listen for the removal of the full notebook cells\n",
       "var notebookContainer = gd.closest('#notebook-container');\n",
       "if (notebookContainer) {{\n",
       "    x.observe(notebookContainer, {childList: true});\n",
       "}}\n",
       "\n",
       "// Listen for the clearing of the current output cell\n",
       "var outputEl = gd.closest('.output');\n",
       "if (outputEl) {{\n",
       "    x.observe(outputEl, {childList: true});\n",
       "}}\n",
       "\n",
       "                        })                };                });            </script>        </div>"
      ]
     },
     "metadata": {},
     "output_type": "display_data"
    }
   ],
   "source": [
    "#Interactive Scatter Plot: Age vs Fare using Plotly\n",
    "\n",
    "# Handle missing values in 'age' and 'fare'\n",
    "scatter_df = titanic.dropna(subset=['age', 'fare'])\n",
    "\n",
    "fig_scatter = px.scatter(\n",
    "    scatter_df,\n",
    "    x='age',\n",
    "    y='fare',\n",
    "    color='pclass',\n",
    "    hover_data=['age', 'sex', 'embarked','survived'],\n",
    "    title='Relationship between Age and Fare Paid by Titanic Passengers',\n",
    "    labels={\n",
    "        'age': 'age',\n",
    "        'fare': 'fare paid',\n",
    "        'pclass': 'Passenger Class'\n",
    "    }\n",
    ")\n",
    "\n",
    "fig_scatter.show()\n"
   ]
  },
  {
   "cell_type": "code",
   "execution_count": 13,
   "metadata": {},
   "outputs": [
    {
     "data": {
      "image/png": "[encoded data removed]",
      "text/plain": [
       "<Figure size 1000x600 with 1 Axes>"
      ]
     },
     "metadata": {},
     "output_type": "display_data"
    }
   ],
   "source": [
    "#Histogram: Distribution of passenger ages using Matplotlib\n",
    "\n",
    "plt.figure(figsize=(10,6))\n",
    "bins = 30  # Customize bin size\n",
    "plt.hist(titanic['age'].dropna(), bins=bins, color='skyblue', alpha=0.7, edgecolor='black')\n",
    "plt.xlabel('age')\n",
    "plt.ylabel('number of passengers')\n",
    "plt.title('Distribution of Passenger Ages on the Titanic')\n",
    "plt.show()\n"
   ]
  },
  {
   "cell_type": "code",
   "execution_count": 16,
   "metadata": {},
   "outputs": [
    {
     "data": {
      "image/png": "[encoded data removed]",
      "text/plain": [
       "<Figure size 800x600 with 1 Axes>"
      ]
     },
     "metadata": {},
     "output_type": "display_data"
    }
   ],
   "source": [
    "#Box Plot: Fare distribution across different passenger classes (pclass) using Seaborn\n",
    "plt.figure(figsize=(8,6))\n",
    "sns.boxplot(data=titanic, x='pclass', y='fare')\n",
    "plt.xlabel('Passenger Class (pclass)')\n",
    "plt.ylabel('fare paid')\n",
    "plt.title('Fare Distribution Across Passenger Classes')\n",
    "plt.legend(title='pclass', labels=['1st Class', '2nd Class', '3rd Class'])\n",
    "plt.show()"
   ]
  },
  {
   "cell_type": "code",
   "execution_count": 20,
   "metadata": {},
   "outputs": [
    {
     "name": "stderr",
     "output_type": "stream",
     "text": [
      "C:\\Users\\Jeffm\\AppData\\Local\\Temp\\ipykernel_12624\\3953274799.py:9: FutureWarning:\n",
      "\n",
      "The default of observed=False is deprecated and will be changed to True in a future version of pandas. Pass observed=False to retain current behavior or observed=True to adopt the future default and silence this warning.\n",
      "\n"
     ]
    },
    {
     "data": {
      "application/vnd.plotly.v1+json": {
       "config": {
        "plotlyServerURL": "https://plot.ly"
       },
       "data": [
        {
         "hovertemplate": "Age Group=%{x}<br>Survival Rate (%)=%{y}<extra></extra>",
         "legendgroup": "",
         "line": {
          "color": "#636efa",
          "dash": "solid"
         },
         "marker": {
          "symbol": "circle"
         },
         "mode": "markers+lines",
         "name": "",
         "orientation": "v",
         "showlegend": false,
         "type": "scatter",
         "x": [
          "0-10",
          "11-20",
          "21-30",
          "31-40",
          "41-50",
          "51-60",
          "61-70",
          "71-80"
         ],
         "xaxis": "x",
         "y": [
          61.29032258064516,
          40.19607843137255,
          35,
          43.712574850299404,
          38.20224719101123,
          41.66666666666667,
          31.57894736842105,
          0
         ],
         "yaxis": "y"
        }
       ],
       "layout": {
        "legend": {
         "tracegroupgap": 0
        },
        "template": {
         "data": {
          "bar": [
           {
            "error_x": {
             "color": "#2a3f5f"
            },
            "error_y": {
             "color": "#2a3f5f"
            },
            "marker": {
             "line": {
              "color": "#E5ECF6",
              "width": 0.5
             },
             "pattern": {
              "fillmode": "overlay",
              "size": 10,
              "solidity": 0.2
             }
            },
            "type": "bar"
           }
          ],
          "barpolar": [
           {
            "marker": {
             "line": {
              "color": "#E5ECF6",
              "width": 0.5
             },
             "pattern": {
              "fillmode": "overlay",
              "size": 10,
              "solidity": 0.2
             }
            },
            "type": "barpolar"
           }
          ],
          "carpet": [
           {
            "aaxis": {
             "endlinecolor": "#2a3f5f",
             "gridcolor": "white",
             "linecolor": "white",
             "minorgridcolor": "white",
             "startlinecolor": "#2a3f5f"
            },
            "baxis": {
             "endlinecolor": "#2a3f5f",
             "gridcolor": "white",
             "linecolor": "white",
             "minorgridcolor": "white",
             "startlinecolor": "#2a3f5f"
            },
            "type": "carpet"
           }
          ],
          "choropleth": [
           {
            "colorbar": {
             "outlinewidth": 0,
             "ticks": ""
            },
            "type": "choropleth"
           }
          ],
          "contour": [
           {
            "colorbar": {
             "outlinewidth": 0,
             "ticks": ""
            },
            "colorscale": [
             [
              0,
              "#0d0887"
             ],
             [
              0.1111111111111111,
              "#46039f"
             ],
             [
              0.2222222222222222,
              "#7201a8"
             ],
             [
              0.3333333333333333,
              "#9c179e"
             ],
             [
              0.4444444444444444,
              "#bd3786"
             ],
             [
              0.5555555555555556,
              "#d8576b"
             ],
             [
              0.6666666666666666,
              "#ed7953"
             ],
             [
              0.7777777777777778,
              "#fb9f3a"
             ],
             [
              0.8888888888888888,
              "#fdca26"
             ],
             [
              1,
              "#f0f921"
             ]
            ],
            "type": "contour"
           }
          ],
          "contourcarpet": [
           {
            "colorbar": {
             "outlinewidth": 0,
             "ticks": ""
            },
            "type": "contourcarpet"
           }
          ],
          "heatmap": [
           {
            "colorbar": {
             "outlinewidth": 0,
             "ticks": ""
            },
            "colorscale": [
             [
              0,
              "#0d0887"
             ],
             [
              0.1111111111111111,
              "#46039f"
             ],
             [
              0.2222222222222222,
              "#7201a8"
             ],
             [
              0.3333333333333333,
              "#9c179e"
             ],
             [
              0.4444444444444444,
              "#bd3786"
             ],
             [
              0.5555555555555556,
              "#d8576b"
             ],
             [
              0.6666666666666666,
              "#ed7953"
             ],
             [
              0.7777777777777778,
              "#fb9f3a"
             ],
             [
              0.8888888888888888,
              "#fdca26"
             ],
             [
              1,
              "#f0f921"
             ]
            ],
            "type": "heatmap"
           }
          ],
          "heatmapgl": [
           {
            "colorbar": {
             "outlinewidth": 0,
             "ticks": ""
            },
            "colorscale": [
             [
              0,
              "#0d0887"
             ],
             [
              0.1111111111111111,
              "#46039f"
             ],
             [
              0.2222222222222222,
              "#7201a8"
             ],
             [
              0.3333333333333333,
              "#9c179e"
             ],
             [
              0.4444444444444444,
              "#bd3786"
             ],
             [
              0.5555555555555556,
              "#d8576b"
             ],
             [
              0.6666666666666666,
              "#ed7953"
             ],
             [
              0.7777777777777778,
              "#fb9f3a"
             ],
             [
              0.8888888888888888,
              "#fdca26"
             ],
             [
              1,
              "#f0f921"
             ]
            ],
            "type": "heatmapgl"
           }
          ],
          "histogram": [
           {
            "marker": {
             "pattern": {
              "fillmode": "overlay",
              "size": 10,
              "solidity": 0.2
             }
            },
            "type": "histogram"
           }
          ],
          "histogram2d": [
           {
            "colorbar": {
             "outlinewidth": 0,
             "ticks": ""
            },
            "colorscale": [
             [
              0,
              "#0d0887"
             ],
             [
              0.1111111111111111,
              "#46039f"
             ],
             [
              0.2222222222222222,
              "#7201a8"
             ],
             [
              0.3333333333333333,
              "#9c179e"
             ],
             [
              0.4444444444444444,
              "#bd3786"
             ],
             [
              0.5555555555555556,
              "#d8576b"
             ],
             [
              0.6666666666666666,
              "#ed7953"
             ],
             [
              0.7777777777777778,
              "#fb9f3a"
             ],
             [
              0.8888888888888888,
              "#fdca26"
             ],
             [
              1,
              "#f0f921"
             ]
            ],
            "type": "histogram2d"
           }
          ],
          "histogram2dcontour": [
           {
            "colorbar": {
             "outlinewidth": 0,
             "ticks": ""
            },
            "colorscale": [
             [
              0,
              "#0d0887"
             ],
             [
              0.1111111111111111,
              "#46039f"
             ],
             [
              0.2222222222222222,
              "#7201a8"
             ],
             [
              0.3333333333333333,
              "#9c179e"
             ],
             [
              0.4444444444444444,
              "#bd3786"
             ],
             [
              0.5555555555555556,
              "#d8576b"
             ],
             [
              0.6666666666666666,
              "#ed7953"
             ],
             [
              0.7777777777777778,
              "#fb9f3a"
             ],
             [
              0.8888888888888888,
              "#fdca26"
             ],
             [
              1,
              "#f0f921"
             ]
            ],
            "type": "histogram2dcontour"
           }
          ],
          "mesh3d": [
           {
            "colorbar": {
             "outlinewidth": 0,
             "ticks": ""
            },
            "type": "mesh3d"
           }
          ],
          "parcoords": [
           {
            "line": {
             "colorbar": {
              "outlinewidth": 0,
              "ticks": ""
             }
            },
            "type": "parcoords"
           }
          ],
          "pie": [
           {
            "automargin": true,
            "type": "pie"
           }
          ],
          "scatter": [
           {
            "fillpattern": {
             "fillmode": "overlay",
             "size": 10,
             "solidity": 0.2
            },
            "type": "scatter"
           }
          ],
          "scatter3d": [
           {
            "line": {
             "colorbar": {
              "outlinewidth": 0,
              "ticks": ""
             }
            },
            "marker": {
             "colorbar": {
              "outlinewidth": 0,
              "ticks": ""
             }
            },
            "type": "scatter3d"
           }
          ],
          "scattercarpet": [
           {
            "marker": {
             "colorbar": {
              "outlinewidth": 0,
              "ticks": ""
             }
            },
            "type": "scattercarpet"
           }
          ],
          "scattergeo": [
           {
            "marker": {
             "colorbar": {
              "outlinewidth": 0,
              "ticks": ""
             }
            },
            "type": "scattergeo"
           }
          ],
          "scattergl": [
           {
            "marker": {
             "colorbar": {
              "outlinewidth": 0,
              "ticks": ""
             }
            },
            "type": "scattergl"
           }
          ],
          "scattermapbox": [
           {
            "marker": {
             "colorbar": {
              "outlinewidth": 0,
              "ticks": ""
             }
            },
            "type": "scattermapbox"
           }
          ],
          "scatterpolar": [
           {
            "marker": {
             "colorbar": {
              "outlinewidth": 0,
              "ticks": ""
             }
            },
            "type": "scatterpolar"
           }
          ],
          "scatterpolargl": [
           {
            "marker": {
             "colorbar": {
              "outlinewidth": 0,
              "ticks": ""
             }
            },
            "type": "scatterpolargl"
           }
          ],
          "scatterternary": [
           {
            "marker": {
             "colorbar": {
              "outlinewidth": 0,
              "ticks": ""
             }
            },
            "type": "scatterternary"
           }
          ],
          "surface": [
           {
            "colorbar": {
             "outlinewidth": 0,
             "ticks": ""
            },
            "colorscale": [
             [
              0,
              "#0d0887"
             ],
             [
              0.1111111111111111,
              "#46039f"
             ],
             [
              0.2222222222222222,
              "#7201a8"
             ],
             [
              0.3333333333333333,
              "#9c179e"
             ],
             [
              0.4444444444444444,
              "#bd3786"
             ],
             [
              0.5555555555555556,
              "#d8576b"
             ],
             [
              0.6666666666666666,
              "#ed7953"
             ],
             [
              0.7777777777777778,
              "#fb9f3a"
             ],
             [
              0.8888888888888888,
              "#fdca26"
             ],
             [
              1,
              "#f0f921"
             ]
            ],
            "type": "surface"
           }
          ],
          "table": [
           {
            "cells": {
             "fill": {
              "color": "#EBF0F8"
             },
             "line": {
              "color": "white"
             }
            },
            "header": {
             "fill": {
              "color": "#C8D4E3"
             },
             "line": {
              "color": "white"
             }
            },
            "type": "table"
           }
          ]
         },
         "layout": {
          "annotationdefaults": {
           "arrowcolor": "#2a3f5f",
           "arrowhead": 0,
           "arrowwidth": 1
          },
          "autotypenumbers": "strict",
          "coloraxis": {
           "colorbar": {
            "outlinewidth": 0,
            "ticks": ""
           }
          },
          "colorscale": {
           "diverging": [
            [
             0,
             "#8e0152"
            ],
            [
             0.1,
             "#c51b7d"
            ],
            [
             0.2,
             "#de77ae"
            ],
            [
             0.3,
             "#f1b6da"
            ],
            [
             0.4,
             "#fde0ef"
            ],
            [
             0.5,
             "#f7f7f7"
            ],
            [
             0.6,
             "#e6f5d0"
            ],
            [
             0.7,
             "#b8e186"
            ],
            [
             0.8,
             "#7fbc41"
            ],
            [
             0.9,
             "#4d9221"
            ],
            [
             1,
             "#276419"
            ]
           ],
           "sequential": [
            [
             0,
             "#0d0887"
            ],
            [
             0.1111111111111111,
             "#46039f"
            ],
            [
             0.2222222222222222,
             "#7201a8"
            ],
            [
             0.3333333333333333,
             "#9c179e"
            ],
            [
             0.4444444444444444,
             "#bd3786"
            ],
            [
             0.5555555555555556,
             "#d8576b"
            ],
            [
             0.6666666666666666,
             "#ed7953"
            ],
            [
             0.7777777777777778,
             "#fb9f3a"
            ],
            [
             0.8888888888888888,
             "#fdca26"
            ],
            [
             1,
             "#f0f921"
            ]
           ],
           "sequentialminus": [
            [
             0,
             "#0d0887"
            ],
            [
             0.1111111111111111,
             "#46039f"
            ],
            [
             0.2222222222222222,
             "#7201a8"
            ],
            [
             0.3333333333333333,
             "#9c179e"
            ],
            [
             0.4444444444444444,
             "#bd3786"
            ],
            [
             0.5555555555555556,
             "#d8576b"
            ],
            [
             0.6666666666666666,
             "#ed7953"
            ],
            [
             0.7777777777777778,
             "#fb9f3a"
            ],
            [
             0.8888888888888888,
             "#fdca26"
            ],
            [
             1,
             "#f0f921"
            ]
           ]
          },
          "colorway": [
           "#636efa",
           "#EF553B",
           "#00cc96",
           "#ab63fa",
           "#FFA15A",
           "#19d3f3",
           "#FF6692",
           "#B6E880",
           "#FF97FF",
           "#FECB52"
          ],
          "font": {
           "color": "#2a3f5f"
          },
          "geo": {
           "bgcolor": "white",
           "lakecolor": "white",
           "landcolor": "#E5ECF6",
           "showlakes": true,
           "showland": true,
           "subunitcolor": "white"
          },
          "hoverlabel": {
           "align": "left"
          },
          "hovermode": "closest",
          "mapbox": {
           "style": "light"
          },
          "paper_bgcolor": "white",
          "plot_bgcolor": "#E5ECF6",
          "polar": {
           "angularaxis": {
            "gridcolor": "white",
            "linecolor": "white",
            "ticks": ""
           },
           "bgcolor": "#E5ECF6",
           "radialaxis": {
            "gridcolor": "white",
            "linecolor": "white",
            "ticks": ""
           }
          },
          "scene": {
           "xaxis": {
            "backgroundcolor": "#E5ECF6",
            "gridcolor": "white",
            "gridwidth": 2,
            "linecolor": "white",
            "showbackground": true,
            "ticks": "",
            "zerolinecolor": "white"
           },
           "yaxis": {
            "backgroundcolor": "#E5ECF6",
            "gridcolor": "white",
            "gridwidth": 2,
            "linecolor": "white",
            "showbackground": true,
            "ticks": "",
            "zerolinecolor": "white"
           },
           "zaxis": {
            "backgroundcolor": "#E5ECF6",
            "gridcolor": "white",
            "gridwidth": 2,
            "linecolor": "white",
            "showbackground": true,
            "ticks": "",
            "zerolinecolor": "white"
           }
          },
          "shapedefaults": {
           "line": {
            "color": "#2a3f5f"
           }
          },
          "ternary": {
           "aaxis": {
            "gridcolor": "white",
            "linecolor": "white",
            "ticks": ""
           },
           "baxis": {
            "gridcolor": "white",
            "linecolor": "white",
            "ticks": ""
           },
           "bgcolor": "#E5ECF6",
           "caxis": {
            "gridcolor": "white",
            "linecolor": "white",
            "ticks": ""
           }
          },
          "title": {
           "x": 0.05
          },
          "xaxis": {
           "automargin": true,
           "gridcolor": "white",
           "linecolor": "white",
           "ticks": "",
           "title": {
            "standoff": 15
           },
           "zerolinecolor": "white",
           "zerolinewidth": 2
          },
          "yaxis": {
           "automargin": true,
           "gridcolor": "white",
           "linecolor": "white",
           "ticks": "",
           "title": {
            "standoff": 15
           },
           "zerolinecolor": "white",
           "zerolinewidth": 2
          }
         }
        },
        "title": {
         "text": "Survival Rate by Age Group on the Titanic"
        },
        "xaxis": {
         "anchor": "y",
         "domain": [
          0,
          1
         ],
         "title": {
          "text": "Age Group"
         }
        },
        "yaxis": {
         "anchor": "x",
         "domain": [
          0,
          1
         ],
         "title": {
          "text": "Survival Rate (%)"
         }
        }
       }
      },
      "text/html": [
       "<div>                            <div id=\"6011cc62-2495-4c5e-b188-943f921c69d6\" class=\"plotly-graph-div\" style=\"height:525px; width:100%;\"></div>            <script type=\"text/javascript\">                require([\"plotly\"], function(Plotly) {                    window.PLOTLYENV=window.PLOTLYENV || {};                                    if (document.getElementById(\"6011cc62-2495-4c5e-b188-943f921c69d6\")) {                    Plotly.newPlot(                        \"6011cc62-2495-4c5e-b188-943f921c69d6\",                        [{\"hovertemplate\":\"Age Group=%{x}<br>Survival Rate (%)=%{y}<extra></extra>\",\"legendgroup\":\"\",\"line\":{\"color\":\"#636efa\",\"dash\":\"solid\"},\"marker\":{\"symbol\":\"circle\"},\"mode\":\"markers+lines\",\"name\":\"\",\"orientation\":\"v\",\"showlegend\":false,\"x\":[\"0-10\",\"11-20\",\"21-30\",\"31-40\",\"41-50\",\"51-60\",\"61-70\",\"71-80\"],\"xaxis\":\"x\",\"y\":[61.29032258064516,40.19607843137255,35.0,43.712574850299404,38.20224719101123,41.66666666666667,31.57894736842105,0.0],\"yaxis\":\"y\",\"type\":\"scatter\"}],                        {\"template\":{\"data\":{\"histogram2dcontour\":[{\"type\":\"histogram2dcontour\",\"colorbar\":{\"outlinewidth\":0,\"ticks\":\"\"},\"colorscale\":[[0.0,\"#0d0887\"],[0.1111111111111111,\"#46039f\"],[0.2222222222222222,\"#7201a8\"],[0.3333333333333333,\"#9c179e\"],[0.4444444444444444,\"#bd3786\"],[0.5555555555555556,\"#d8576b\"],[0.6666666666666666,\"#ed7953\"],[0.7777777777777778,\"#fb9f3a\"],[0.8888888888888888,\"#fdca26\"],[1.0,\"#f0f921\"]]}],\"choropleth\":[{\"type\":\"choropleth\",\"colorbar\":{\"outlinewidth\":0,\"ticks\":\"\"}}],\"histogram2d\":[{\"type\":\"histogram2d\",\"colorbar\":{\"outlinewidth\":0,\"ticks\":\"\"},\"colorscale\":[[0.0,\"#0d0887\"],[0.1111111111111111,\"#46039f\"],[0.2222222222222222,\"#7201a8\"],[0.3333333333333333,\"#9c179e\"],[0.4444444444444444,\"#bd3786\"],[0.5555555555555556,\"#d8576b\"],[0.6666666666666666,\"#ed7953\"],[0.7777777777777778,\"#fb9f3a\"],[0.8888888888888888,\"#fdca26\"],[1.0,\"#f0f921\"]]}],\"heatmap\":[{\"type\":\"heatmap\",\"colorbar\":{\"outlinewidth\":0,\"ticks\":\"\"},\"colorscale\":[[0.0,\"#0d0887\"],[0.1111111111111111,\"#46039f\"],[0.2222222222222222,\"#7201a8\"],[0.3333333333333333,\"#9c179e\"],[0.4444444444444444,\"#bd3786\"],[0.5555555555555556,\"#d8576b\"],[0.6666666666666666,\"#ed7953\"],[0.7777777777777778,\"#fb9f3a\"],[0.8888888888888888,\"#fdca26\"],[1.0,\"#f0f921\"]]}],\"heatmapgl\":[{\"type\":\"heatmapgl\",\"colorbar\":{\"outlinewidth\":0,\"ticks\":\"\"},\"colorscale\":[[0.0,\"#0d0887\"],[0.1111111111111111,\"#46039f\"],[0.2222222222222222,\"#7201a8\"],[0.3333333333333333,\"#9c179e\"],[0.4444444444444444,\"#bd3786\"],[0.5555555555555556,\"#d8576b\"],[0.6666666666666666,\"#ed7953\"],[0.7777777777777778,\"#fb9f3a\"],[0.8888888888888888,\"#fdca26\"],[1.0,\"#f0f921\"]]}],\"contourcarpet\":[{\"type\":\"contourcarpet\",\"colorbar\":{\"outlinewidth\":0,\"ticks\":\"\"}}],\"contour\":[{\"type\":\"contour\",\"colorbar\":{\"outlinewidth\":0,\"ticks\":\"\"},\"colorscale\":[[0.0,\"#0d0887\"],[0.1111111111111111,\"#46039f\"],[0.2222222222222222,\"#7201a8\"],[0.3333333333333333,\"#9c179e\"],[0.4444444444444444,\"#bd3786\"],[0.5555555555555556,\"#d8576b\"],[0.6666666666666666,\"#ed7953\"],[0.7777777777777778,\"#fb9f3a\"],[0.8888888888888888,\"#fdca26\"],[1.0,\"#f0f921\"]]}],\"surface\":[{\"type\":\"surface\",\"colorbar\":{\"outlinewidth\":0,\"ticks\":\"\"},\"colorscale\":[[0.0,\"#0d0887\"],[0.1111111111111111,\"#46039f\"],[0.2222222222222222,\"#7201a8\"],[0.3333333333333333,\"#9c179e\"],[0.4444444444444444,\"#bd3786\"],[0.5555555555555556,\"#d8576b\"],[0.6666666666666666,\"#ed7953\"],[0.7777777777777778,\"#fb9f3a\"],[0.8888888888888888,\"#fdca26\"],[1.0,\"#f0f921\"]]}],\"mesh3d\":[{\"type\":\"mesh3d\",\"colorbar\":{\"outlinewidth\":0,\"ticks\":\"\"}}],\"scatter\":[{\"fillpattern\":{\"fillmode\":\"overlay\",\"size\":10,\"solidity\":0.2},\"type\":\"scatter\"}],\"parcoords\":[{\"type\":\"parcoords\",\"line\":{\"colorbar\":{\"outlinewidth\":0,\"ticks\":\"\"}}}],\"scatterpolargl\":[{\"type\":\"scatterpolargl\",\"marker\":{\"colorbar\":{\"outlinewidth\":0,\"ticks\":\"\"}}}],\"bar\":[{\"error_x\":{\"color\":\"#2a3f5f\"},\"error_y\":{\"color\":\"#2a3f5f\"},\"marker\":{\"line\":{\"color\":\"#E5ECF6\",\"width\":0.5},\"pattern\":{\"fillmode\":\"overlay\",\"size\":10,\"solidity\":0.2}},\"type\":\"bar\"}],\"scattergeo\":[{\"type\":\"scattergeo\",\"marker\":{\"colorbar\":{\"outlinewidth\":0,\"ticks\":\"\"}}}],\"scatterpolar\":[{\"type\":\"scatterpolar\",\"marker\":{\"colorbar\":{\"outlinewidth\":0,\"ticks\":\"\"}}}],\"histogram\":[{\"marker\":{\"pattern\":{\"fillmode\":\"overlay\",\"size\":10,\"solidity\":0.2}},\"type\":\"histogram\"}],\"scattergl\":[{\"type\":\"scattergl\",\"marker\":{\"colorbar\":{\"outlinewidth\":0,\"ticks\":\"\"}}}],\"scatter3d\":[{\"type\":\"scatter3d\",\"line\":{\"colorbar\":{\"outlinewidth\":0,\"ticks\":\"\"}},\"marker\":{\"colorbar\":{\"outlinewidth\":0,\"ticks\":\"\"}}}],\"scattermapbox\":[{\"type\":\"scattermapbox\",\"marker\":{\"colorbar\":{\"outlinewidth\":0,\"ticks\":\"\"}}}],\"scatterternary\":[{\"type\":\"scatterternary\",\"marker\":{\"colorbar\":{\"outlinewidth\":0,\"ticks\":\"\"}}}],\"scattercarpet\":[{\"type\":\"scattercarpet\",\"marker\":{\"colorbar\":{\"outlinewidth\":0,\"ticks\":\"\"}}}],\"carpet\":[{\"aaxis\":{\"endlinecolor\":\"#2a3f5f\",\"gridcolor\":\"white\",\"linecolor\":\"white\",\"minorgridcolor\":\"white\",\"startlinecolor\":\"#2a3f5f\"},\"baxis\":{\"endlinecolor\":\"#2a3f5f\",\"gridcolor\":\"white\",\"linecolor\":\"white\",\"minorgridcolor\":\"white\",\"startlinecolor\":\"#2a3f5f\"},\"type\":\"carpet\"}],\"table\":[{\"cells\":{\"fill\":{\"color\":\"#EBF0F8\"},\"line\":{\"color\":\"white\"}},\"header\":{\"fill\":{\"color\":\"#C8D4E3\"},\"line\":{\"color\":\"white\"}},\"type\":\"table\"}],\"barpolar\":[{\"marker\":{\"line\":{\"color\":\"#E5ECF6\",\"width\":0.5},\"pattern\":{\"fillmode\":\"overlay\",\"size\":10,\"solidity\":0.2}},\"type\":\"barpolar\"}],\"pie\":[{\"automargin\":true,\"type\":\"pie\"}]},\"layout\":{\"autotypenumbers\":\"strict\",\"colorway\":[\"#636efa\",\"#EF553B\",\"#00cc96\",\"#ab63fa\",\"#FFA15A\",\"#19d3f3\",\"#FF6692\",\"#B6E880\",\"#FF97FF\",\"#FECB52\"],\"font\":{\"color\":\"#2a3f5f\"},\"hovermode\":\"closest\",\"hoverlabel\":{\"align\":\"left\"},\"paper_bgcolor\":\"white\",\"plot_bgcolor\":\"#E5ECF6\",\"polar\":{\"bgcolor\":\"#E5ECF6\",\"angularaxis\":{\"gridcolor\":\"white\",\"linecolor\":\"white\",\"ticks\":\"\"},\"radialaxis\":{\"gridcolor\":\"white\",\"linecolor\":\"white\",\"ticks\":\"\"}},\"ternary\":{\"bgcolor\":\"#E5ECF6\",\"aaxis\":{\"gridcolor\":\"white\",\"linecolor\":\"white\",\"ticks\":\"\"},\"baxis\":{\"gridcolor\":\"white\",\"linecolor\":\"white\",\"ticks\":\"\"},\"caxis\":{\"gridcolor\":\"white\",\"linecolor\":\"white\",\"ticks\":\"\"}},\"coloraxis\":{\"colorbar\":{\"outlinewidth\":0,\"ticks\":\"\"}},\"colorscale\":{\"sequential\":[[0.0,\"#0d0887\"],[0.1111111111111111,\"#46039f\"],[0.2222222222222222,\"#7201a8\"],[0.3333333333333333,\"#9c179e\"],[0.4444444444444444,\"#bd3786\"],[0.5555555555555556,\"#d8576b\"],[0.6666666666666666,\"#ed7953\"],[0.7777777777777778,\"#fb9f3a\"],[0.8888888888888888,\"#fdca26\"],[1.0,\"#f0f921\"]],\"sequentialminus\":[[0.0,\"#0d0887\"],[0.1111111111111111,\"#46039f\"],[0.2222222222222222,\"#7201a8\"],[0.3333333333333333,\"#9c179e\"],[0.4444444444444444,\"#bd3786\"],[0.5555555555555556,\"#d8576b\"],[0.6666666666666666,\"#ed7953\"],[0.7777777777777778,\"#fb9f3a\"],[0.8888888888888888,\"#fdca26\"],[1.0,\"#f0f921\"]],\"diverging\":[[0,\"#8e0152\"],[0.1,\"#c51b7d\"],[0.2,\"#de77ae\"],[0.3,\"#f1b6da\"],[0.4,\"#fde0ef\"],[0.5,\"#f7f7f7\"],[0.6,\"#e6f5d0\"],[0.7,\"#b8e186\"],[0.8,\"#7fbc41\"],[0.9,\"#4d9221\"],[1,\"#276419\"]]},\"xaxis\":{\"gridcolor\":\"white\",\"linecolor\":\"white\",\"ticks\":\"\",\"title\":{\"standoff\":15},\"zerolinecolor\":\"white\",\"automargin\":true,\"zerolinewidth\":2},\"yaxis\":{\"gridcolor\":\"white\",\"linecolor\":\"white\",\"ticks\":\"\",\"title\":{\"standoff\":15},\"zerolinecolor\":\"white\",\"automargin\":true,\"zerolinewidth\":2},\"scene\":{\"xaxis\":{\"backgroundcolor\":\"#E5ECF6\",\"gridcolor\":\"white\",\"linecolor\":\"white\",\"showbackground\":true,\"ticks\":\"\",\"zerolinecolor\":\"white\",\"gridwidth\":2},\"yaxis\":{\"backgroundcolor\":\"#E5ECF6\",\"gridcolor\":\"white\",\"linecolor\":\"white\",\"showbackground\":true,\"ticks\":\"\",\"zerolinecolor\":\"white\",\"gridwidth\":2},\"zaxis\":{\"backgroundcolor\":\"#E5ECF6\",\"gridcolor\":\"white\",\"linecolor\":\"white\",\"showbackground\":true,\"ticks\":\"\",\"zerolinecolor\":\"white\",\"gridwidth\":2}},\"shapedefaults\":{\"line\":{\"color\":\"#2a3f5f\"}},\"annotationdefaults\":{\"arrowcolor\":\"#2a3f5f\",\"arrowhead\":0,\"arrowwidth\":1},\"geo\":{\"bgcolor\":\"white\",\"landcolor\":\"#E5ECF6\",\"subunitcolor\":\"white\",\"showland\":true,\"showlakes\":true,\"lakecolor\":\"white\"},\"title\":{\"x\":0.05},\"mapbox\":{\"style\":\"light\"}}},\"xaxis\":{\"anchor\":\"y\",\"domain\":[0.0,1.0],\"title\":{\"text\":\"Age Group\"}},\"yaxis\":{\"anchor\":\"x\",\"domain\":[0.0,1.0],\"title\":{\"text\":\"Survival Rate (%)\"}},\"legend\":{\"tracegroupgap\":0},\"title\":{\"text\":\"Survival Rate by Age Group on the Titanic\"}},                        {\"responsive\": true}                    ).then(function(){\n",
       "                            \n",
       "var gd = document.getElementById('6011cc62-2495-4c5e-b188-943f921c69d6');\n",
       "var x = new MutationObserver(function (mutations, observer) {{\n",
       "        var display = window.getComputedStyle(gd).display;\n",
       "        if (!display || display === 'none') {{\n",
       "            console.log([gd, 'removed!']);\n",
       "            Plotly.purge(gd);\n",
       "            observer.disconnect();\n",
       "        }}\n",
       "}});\n",
       "\n",
       "// Listen for the removal of the full notebook cells\n",
       "var notebookContainer = gd.closest('#notebook-container');\n",
       "if (notebookContainer) {{\n",
       "    x.observe(notebookContainer, {childList: true});\n",
       "}}\n",
       "\n",
       "// Listen for the clearing of the current output cell\n",
       "var outputEl = gd.closest('.output');\n",
       "if (outputEl) {{\n",
       "    x.observe(outputEl, {childList: true});\n",
       "}}\n",
       "\n",
       "                        })                };                });            </script>        </div>"
      ]
     },
     "metadata": {},
     "output_type": "display_data"
    }
   ],
   "source": [
    "#Line Plot: Survival rate based on age using Plotly\n",
    "#Define age bins\n",
    "\n",
    "age_bins = [0, 10, 20, 30, 40, 50, 60, 70, 80]\n",
    "age_labels = ['0-10', '11-20', '21-30', '31-40', '41-50', '51-60', '61-70', '71-80']\n",
    "titanic['AgeGroup'] = pd.cut(titanic['age'], bins=age_bins, labels=age_labels, right=False)\n",
    "\n",
    "# Calculate survival rate per age group\n",
    "survival_rate = titanic.groupby('AgeGroup')['survived'].mean().reset_index()\n",
    "survival_rate['survived'] = survival_rate['survived'] * 100  # Convert to percentage\n",
    "\n",
    "fig_line = px.line(\n",
    "    survival_rate,\n",
    "    x='AgeGroup',\n",
    "    y='survived',\n",
    "    markers=True,\n",
    "    title='Survival Rate by Age Group on the Titanic',\n",
    "    labels={\n",
    "        'AgeGroup': 'Age Group',\n",
    "        'survived': 'Survival Rate (%)'\n",
    "    }\n",
    ")\n",
    "\n",
    "fig_line.show()"
   ]
  },
  {
   "cell_type": "code",
   "execution_count": 24,
   "metadata": {},
   "outputs": [
    {
     "data": {
      "image/png": "[encoded data removed]",
      "text/plain": [
       "<Figure size 1000x700 with 1 Axes>"
      ]
     },
     "metadata": {},
     "output_type": "display_data"
    }
   ],
   "source": [
    "#Use Matplotlib to create a stacked bar plot to visualize the survival count of passengers in different passenger classes\n",
    "\n",
    "#Handle missing values in 'Embarked' column\n",
    "df = titanic.dropna(subset=['embarked'])\n",
    "\n",
    "# Initialize bar data\n",
    "pclasses = sorted(df['pclass'].unique())\n",
    "embarked_ports = sorted(df['embarked'].unique())\n",
    "\n",
    "survived_counts = {port: [] for port in embarked_ports}\n",
    "not_survived_counts = {port: [] for port in embarked_ports}\n",
    "\n",
    "#Collect counts\n",
    "for pclass in pclasses:\n",
    "    for port in embarked_ports:\n",
    "        survived = len(df[(df['pclass'] == pclass) & (df['embarked'] == port) & (df['survived'] == 1)])\n",
    "        not_survived = len(df[(df['pclass'] == pclass) & (df['embarked'] == port) & (df['survived'] == 0)])\n",
    "        survived_counts[port].append(survived)\n",
    "        not_survived_counts[port].append(not_survived)\n",
    "\n",
    "#Plot\n",
    "x = range(len(pclasses))\n",
    "plt.figure(figsize=(10, 7))\n",
    "\n",
    "for port, color in zip(embarked_ports, ['skyblue', 'orange', 'green']):\n",
    "    plt.bar(x, not_survived_counts[port], label=f'{port} - Not Survived', color=color, alpha=0.5)\n",
    "    plt.bar(x, survived_counts[port], bottom=not_survived_counts[port], label=f'{port} - Survived', color=color)\n",
    "\n",
    "#Customize the colors, add a legend, and include a title for the plot.\n",
    "plt.xticks(ticks=x, labels=[f'Class {p}' for p in pclasses])\n",
    "plt.xlabel('Passenger Class (Pclass)')\n",
    "plt.ylabel('Number of Passengers')\n",
    "plt.title('Survival Counts by Passenger Class and Embarkation Port')\n",
    "plt.legend(title='Embarkation Port')\n",
    "plt.show()\n",
    "\n"
   ]
  },
  {
   "cell_type": "code",
   "execution_count": 26,
   "metadata": {},
   "outputs": [
    {
     "data": {
      "image/png": "[encoded data removed]",
      "text/plain": [
       "<Figure size 800x600 with 2 Axes>"
      ]
     },
     "metadata": {},
     "output_type": "display_data"
    }
   ],
   "source": [
    "#Create a heat map using Seaborn\n",
    "numerical_cols = ['age', 'fare', 'sibsp', 'parch']\n",
    "\n",
    "# Compute correlation matrix\n",
    "corr_matrix = titanic[numerical_cols].corr()\n",
    "\n",
    "plt.figure(figsize=(8,6))\n",
    "sns.heatmap(\n",
    "    corr_matrix,\n",
    "    annot=True,\n",
    "    fmt=\".2f\",\n",
    "    cmap='coolwarm',\n",
    "    linewidths=0.5\n",
    ")\n",
    "plt.title('Correlation Matrix of Numerical Variables in Titanic Dataset')\n",
    "plt.show()\n"
   ]
  }
 ],
 "metadata": {
  "kernelspec": {
   "display_name": "Python 3 (ipykernel)",
   "language": "python",
   "name": "python3"
  },
  "language_info": {
   "codemirror_mode": {
    "name": "ipython",
    "version": 3
   },
   "file_extension": ".py",
   "mimetype": "text/x-python",
   "name": "python",
   "nbconvert_exporter": "python",
   "pygments_lexer": "ipython3",
   "version": "3.9.13"
  }
 },
 "nbformat": 4,
 "nbformat_minor": 4
}
