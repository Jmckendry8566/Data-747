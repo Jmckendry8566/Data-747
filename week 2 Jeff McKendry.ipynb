{
 "cells": [
  {
   "cell_type": "markdown",
   "metadata": {},
   "source": [
    "## Lab Assignment: Implementing Basic Control Structures and Functions\n",
    "Student:    Jeff McKendry\n",
    "\n",
    "### Objective: To apply knowledge of basic control structures and functions in Python.\n",
    "\n",
    "### Instructions:\n",
    "In this lab assignment, you will be given the following seven problems to solve. Each problem requires you to implement a solution using basic control structures and functions in Python. Read the problem statement carefully and make sure you understand the requirements before starting to code.\n",
    "\n",
    "1.  Write a Python function to find the maximum of two numbers.\n",
    "2.  Write a Python function to find the minimum of two numbers.\n",
    "3.  Write a Python function to check if a given number is even or odd.\n",
    "4.  Write a Python program to print all the even numbers from 1 to 100.\n",
    "5.  Write a Python program to print all the odd numbers from 1 to 100.\n",
    "6.  Write a Python program to find the sum of all the numbers from 1 to 100.\n",
    "7.  Write a Python program to find the factorial of a given number.\n",
    "\n",
    "### Deliverable:\n",
    "Modify this notebook to include the python code as well as any documentation related to your submission.  Submit the notebook as your response in Blackboard.\n",
    "\n",
    "### Grading Criteria:\n",
    "\n",
    "Your lab assignment will be graded based on the following criteria:\n",
    "\n",
    "- Correctness of the implementation\n",
    "- Proper use of basic control structures and functions\n",
    "- Code efficiency\n",
    "- Clarity and readability of the code\n",
    "- Compliance with the instructions and deliverables.\n",
    "\n",
    "### Student Submission\n",
    "1.  Write a Python function to find the maximum of two numbers."
   ]
  },
  {
   "cell_type": "code",
   "execution_count": 6,
   "metadata": {},
   "outputs": [
    {
     "data": {
      "text/plain": [
       "7"
      ]
     },
     "execution_count": 6,
     "metadata": {},
     "output_type": "execute_result"
    }
   ],
   "source": [
    "def max_two (a,b):\n",
    "    if a > b:\n",
    "        return a\n",
    "    else:\n",
    "        return b\n",
    "# test code\n",
    "max_two(5,7)"
   ]
  },
  {
   "cell_type": "markdown",
   "metadata": {},
   "source": [
    "2.  Write a Python function to find the minimum of two numbers."
   ]
  },
  {
   "cell_type": "code",
   "execution_count": 7,
   "metadata": {},
   "outputs": [
    {
     "data": {
      "text/plain": [
       "5"
      ]
     },
     "execution_count": 7,
     "metadata": {},
     "output_type": "execute_result"
    }
   ],
   "source": [
    "def min_two (a,b):\n",
    "    if a < b:\n",
    "        return a\n",
    "    else:\n",
    "        return b\n",
    "# test code\n",
    "min_two(5,7)"
   ]
  },
  {
   "cell_type": "markdown",
   "metadata": {},
   "source": [
    "3.  Write a Python function to check if a given number is even or odd."
   ]
  },
  {
   "cell_type": "code",
   "execution_count": 15,
   "metadata": {},
   "outputs": [
    {
     "data": {
      "text/plain": [
       "'Even'"
      ]
     },
     "execution_count": 15,
     "metadata": {},
     "output_type": "execute_result"
    }
   ],
   "source": [
    "def is_odd_or_even(a):\n",
    "    if a % 2 == 0:\n",
    "        return \"Even\"\n",
    "    else:\n",
    "        return \"Odd\"\n",
    "    \n",
    "# test code\n",
    "is_odd_or_even(4)"
   ]
  },
  {
   "cell_type": "markdown",
   "metadata": {},
   "source": [
    "4.  Write a Python program to print all the even numbers from 1 to 100."
   ]
  },
  {
   "cell_type": "code",
   "execution_count": 28,
   "metadata": {},
   "outputs": [
    {
     "name": "stdout",
     "output_type": "stream",
     "text": [
      "2\n",
      "4\n",
      "6\n",
      "8\n",
      "10\n",
      "12\n",
      "14\n",
      "16\n",
      "18\n",
      "20\n",
      "22\n",
      "24\n",
      "26\n",
      "28\n",
      "30\n",
      "32\n",
      "34\n",
      "36\n",
      "38\n",
      "40\n",
      "42\n",
      "44\n",
      "46\n",
      "48\n",
      "50\n",
      "52\n",
      "54\n",
      "56\n",
      "58\n",
      "60\n",
      "62\n",
      "64\n",
      "66\n",
      "68\n",
      "70\n",
      "72\n",
      "74\n",
      "76\n",
      "78\n",
      "80\n",
      "82\n",
      "84\n",
      "86\n",
      "88\n",
      "90\n",
      "92\n",
      "94\n",
      "96\n",
      "98\n",
      "100\n"
     ]
    }
   ],
   "source": [
    "for i in range(1, 101): #range function arguments uses a stop number, if we chose 100 it would not include 100\n",
    "        if i % 2 == 0: # modulus operator determines if there is a remainder, \n",
    "                      # not equal to zero denotes an odd number, whereas eqaul to zero is even\n",
    "            print (i)"
   ]
  },
  {
   "cell_type": "markdown",
   "metadata": {},
   "source": [
    "5.  Write a Python program to print all the odd numbers from 1 to 100."
   ]
  },
  {
   "cell_type": "code",
   "execution_count": 25,
   "metadata": {},
   "outputs": [
    {
     "name": "stdout",
     "output_type": "stream",
     "text": [
      "1\n",
      "3\n",
      "5\n",
      "7\n",
      "9\n",
      "11\n",
      "13\n",
      "15\n",
      "17\n",
      "19\n",
      "21\n",
      "23\n",
      "25\n",
      "27\n",
      "29\n",
      "31\n",
      "33\n",
      "35\n",
      "37\n",
      "39\n",
      "41\n",
      "43\n",
      "45\n",
      "47\n",
      "49\n",
      "51\n",
      "53\n",
      "55\n",
      "57\n",
      "59\n",
      "61\n",
      "63\n",
      "65\n",
      "67\n",
      "69\n",
      "71\n",
      "73\n",
      "75\n",
      "77\n",
      "79\n",
      "81\n",
      "83\n",
      "85\n",
      "87\n",
      "89\n",
      "91\n",
      "93\n",
      "95\n",
      "97\n",
      "99\n"
     ]
    }
   ],
   "source": [
    "for i in range(1, 101): #range function arguments uses a stop number, if we chose 100 it would not include 100\n",
    "        if i % 2 != 0: # modulus operator determines if there is a remainder, not equally zero denotes an odd number.\n",
    "            print (i)"
   ]
  },
  {
   "cell_type": "markdown",
   "metadata": {},
   "source": [
    "6.  Write a Python program to find the sum of all the numbers from 1 to 100."
   ]
  },
  {
   "cell_type": "code",
   "execution_count": 24,
   "metadata": {},
   "outputs": [
    {
     "data": {
      "text/plain": [
       "5050"
      ]
     },
     "execution_count": 24,
     "metadata": {},
     "output_type": "execute_result"
    }
   ],
   "source": [
    "total = 0\n",
    "\n",
    "for i in range( 1,101):  #if we gave the range 1 to 100 it would not be inclusive of 100 thus 101 is used\n",
    "    total += i\n",
    "    \n",
    "    \n",
    "#print the result\n",
    "total\n",
    "    "
   ]
  },
  {
   "cell_type": "markdown",
   "metadata": {},
   "source": [
    "7.  Write a Python program to find the factorial of a given number."
   ]
  },
  {
   "cell_type": "code",
   "execution_count": 23,
   "metadata": {},
   "outputs": [
    {
     "name": "stdout",
     "output_type": "stream",
     "text": [
      "Enter a number: -1\n",
      "There is not a factorial for a negative number\n"
     ]
    }
   ],
   "source": [
    "n = int(input(\"Enter a number: \"))\n",
    "\n",
    "factorial = 1\n",
    "\n",
    "#check if value is negative or zero\n",
    "\n",
    "if n < 0:\n",
    "    print(\"There is not a factorial for a negative number\")\n",
    "elif n == 0:\n",
    "    print(\"Factorial of 0 is 1\")\n",
    "else:\n",
    "    for i in range(1, n + 1):\n",
    "        factorial = factorial * i\n",
    "    print(\"The Factorial of\", n,\"is\" , factorial)\n",
    "    \n"
   ]
  }
 ],
 "metadata": {
  "kernelspec": {
   "display_name": "Python 3 (ipykernel)",
   "language": "python",
   "name": "python3"
  },
  "language_info": {
   "codemirror_mode": {
    "name": "ipython",
    "version": 3
   },
   "file_extension": ".py",
   "mimetype": "text/x-python",
   "name": "python",
   "nbconvert_exporter": "python",
   "pygments_lexer": "ipython3",
   "version": "3.9.13"
  }
 },
 "nbformat": 4,
 "nbformat_minor": 2
}
